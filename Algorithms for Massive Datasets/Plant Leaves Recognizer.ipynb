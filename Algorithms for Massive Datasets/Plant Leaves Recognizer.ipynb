{
 "cells": [
  {
   "cell_type": "markdown",
   "id": "1de605fd",
   "metadata": {},
   "source": [
    "# Algorithms for Massive Data\n",
    "# Project - Plant Leaves Recognizer\n",
    "# David Fernandez - 988346"
   ]
  },
  {
   "cell_type": "markdown",
   "id": "0ae3e2b8",
   "metadata": {},
   "source": [
    "The task is to implement a deep-learning-based system classifying pictures of leaves according to the twelve types of plants"
   ]
  },
  {
   "cell_type": "code",
   "execution_count": 1,
   "id": "120291bd",
   "metadata": {
    "code_folding": [],
    "tags": []
   },
   "outputs": [],
   "source": [
    "#import libraries\n",
    "import matplotlib.pyplot as plt\n",
    "import pandas as pd\n",
    "import numpy as np\n",
    "from numpy.random import seed\n",
    "from numpy import array\n",
    "from numpy import argmax\n",
    "import seaborn as sns\n",
    "import random\n",
    "import cv2\n",
    "import os\n",
    "import pickle\n",
    "import shutil\n",
    "\n",
    "os.environ['PYTHONHASHSEED']=str(2)\n",
    "\n",
    "import tensorflow as tf\n",
    "from tensorflow import keras\n",
    "from tensorflow.keras import layers\n",
    "from tensorflow.keras import regularizers\n",
    "from tensorflow.keras.utils import to_categorical\n",
    "from tensorflow.keras.optimizers import SGD, Adam\n",
    "from tensorflow.keras.layers import BatchNormalization\n",
    "from tensorflow.keras.models import Sequential, load_model\n",
    "\n",
    "from keras.layers import PReLU\n",
    "from keras.layers.core import Dense, Dropout, Activation, Flatten\n",
    "from keras.initializers import Constant\n",
    "from keras.callbacks import ModelCheckpoint, EarlyStopping\n",
    "from keras.layers.convolutional import Conv2D, MaxPooling2D, ZeroPadding2D\n",
    "\n",
    "import sklearn\n",
    "from sklearn.preprocessing import LabelEncoder\n",
    "from sklearn.preprocessing import OneHotEncoder\n",
    "from sklearn import metrics\n",
    "from scikeras.wrappers import KerasClassifier\n",
    "from sklearn.metrics import confusion_matrix\n",
    "from sklearn.metrics import classification_report\n",
    "\n",
    "import graphviz\n",
    "import pydot\n",
    "import visualkeras\n",
    "from PIL import ImageFont\n",
    "\n",
    "def reset_random_seeds():\n",
    "   os.environ['PYTHONHASHSEED']=str(2)\n",
    "   tf.random.set_seed(2)\n",
    "   np.random.seed(2)\n",
    "   random.seed(2)"
   ]
  },
  {
   "cell_type": "code",
   "execution_count": 2,
   "id": "080df5ad-c8a1-443e-98f3-184052a8b479",
   "metadata": {},
   "outputs": [],
   "source": [
    "reset_random_seeds()"
   ]
  },
  {
   "cell_type": "code",
   "execution_count": null,
   "id": "4dc0315c",
   "metadata": {
    "code_folding": [
     0
    ],
    "tags": []
   },
   "outputs": [],
   "source": [
    "#download data from Kaggle\n",
    "import zipfile\n",
    "import os\n",
    "\n",
    "from kaggle.api.kaggle_api_extended import KaggleApi\n",
    "api = KaggleApi()\n",
    "api.authenticate()\n",
    "\n",
    "path = \"D:\\\\Data\\\\\"\n",
    "\n",
    "os.environ['KAGGLE_USERNAME'] = \"davidheilbron\"\n",
    "os.environ['KAGGLE_KEY'] = \"60686e2d39aaab30b0ba19230091fcbe\"\n",
    "!kaggle datasets download -d csafrit2/plant-leaves-for-image-classification -p $path\n"
   ]
  },
  {
   "cell_type": "code",
   "execution_count": null,
   "id": "66932f55",
   "metadata": {
    "code_folding": [
     0
    ]
   },
   "outputs": [],
   "source": [
    "# unzip data\n",
    "with zipfile.ZipFile(os.path.join(path, 'plant-leaves-for-image-classification.zip'), 'r') as zip_ref:\n",
    "    zip_ref.extractall(path)"
   ]
  },
  {
   "cell_type": "code",
   "execution_count": null,
   "id": "fff5cc92",
   "metadata": {
    "tags": []
   },
   "outputs": [],
   "source": [
    "#show random images from training dataset\n",
    "import random\n",
    "from PIL import Image\n",
    "from skimage.io import imread\n",
    "\n",
    "path = r\"D:\\\\Data\\\\Plants_2\\\\train\"\n",
    "\n",
    "images = []\n",
    "for folder in os.listdir(path):\n",
    "  for image in os.listdir(path + '/' + folder):\n",
    "    images.append(os.path.join(path, folder, image))\n",
    "      \n",
    "plt.figure(1, figsize=(15, 9))\n",
    "n = 0\n",
    "for i in range(16):\n",
    "  n += 1\n",
    "  random_img = random.choice(images)\n",
    "  imgs = imread(random_img)\n",
    "  plt.subplot(4, 4, n)\n",
    "  plt.imshow(imgs)\n",
    "\n",
    "plt.savefig(r\"C:\\Users\\Administrator\\Documents\\GitHub\\Projects\\Algorithms for Massive Datasets\\Plots\\sample.jpeg\", dpi = 200)\n",
    "plt.show()\n"
   ]
  },
  {
   "cell_type": "code",
   "execution_count": null,
   "id": "53895975",
   "metadata": {
    "code_folding": [
     0
    ],
    "tags": []
   },
   "outputs": [],
   "source": [
    "#Total number of images on each parent folder\n",
    "\n",
    "def count_files(path):\n",
    "    count = 0\n",
    "    for root, dirs, files in os.walk(path):\n",
    "        count += len(files)\n",
    "    return count\n",
    "\n",
    "path = r\"D:\\\\Data\\\\Plants_2\\\\images to predict\"\n",
    "num_files = count_files(path)\n",
    "print(\"Total number of images in images to predict\", num_files)\n",
    "\n",
    "path = r\"D:\\\\Data\\\\Plants_2\\\\test\"\n",
    "num_files = count_files(path)\n",
    "print(\"Total number of images in test\", num_files)\n",
    "\n",
    "path = r\"D:\\\\Data\\\\Plants_2\\\\train\"\n",
    "num_files = count_files(path)\n",
    "print(\"Total number of images in train\", num_files)\n",
    "\n",
    "path = r\"D:\\\\Data\\\\Plants_2\\\\valid\"\n",
    "num_files = count_files(path)\n",
    "print(\"Total number of images in valid\", num_files)\n"
   ]
  },
  {
   "cell_type": "code",
   "execution_count": null,
   "id": "d4a280d5",
   "metadata": {
    "code_folding": [
     0
    ],
    "tags": []
   },
   "outputs": [],
   "source": [
    "#How many files do we have on the test folder?\n",
    "\n",
    "path = r\"D:\\\\Data\\\\Plants_2\\\\test\"\n",
    "image_counts = {}\n",
    "\n",
    "for root, dirs, files in os.walk(path):\n",
    "    count = 0\n",
    "    for file in files:\n",
    "        count += 1\n",
    "    if count > 0:\n",
    "        image_counts[root] = count\n",
    "\n",
    "# Display the image counts for each folder\n",
    "if image_counts:\n",
    "    for folder, count in image_counts.items():\n",
    "        print(\"Folder\", folder, \"contains\", count, \"images.\")\n",
    "else:\n",
    "    print(\"No images found in subfolders of\", path)"
   ]
  },
  {
   "cell_type": "code",
   "execution_count": null,
   "id": "e34b2464",
   "metadata": {
    "code_folding": [
     0
    ]
   },
   "outputs": [],
   "source": [
    "# fix Basil diseaded folder name\n",
    "\n",
    "old_folder_name = r\"D:\\\\Data\\\\Plants_2\\\\test\\\\Bael diseased (P4b)\"\n",
    "new_folder_name = r\"D:\\\\Data\\\\Plants_2\\\\test\\\\Basil diseased (P4b)\"\n",
    "\n",
    "os.rename(old_folder_name, new_folder_name)\n",
    "\n",
    "old_folder_name = r\"D:\\\\Data\\\\Plants_2\\\\train\\\\Bael diseased (P4b)\"\n",
    "new_folder_name = r\"D:\\\\Data\\\\Plants_2\\\\train\\\\Basil diseased (P4b)\"\n",
    "\n",
    "os.rename(old_folder_name, new_folder_name)\n",
    "\n",
    "old_folder_name = r\"D:\\\\Data\\\\Plants_2\\\\valid\\\\Bael diseased (P4b)\"\n",
    "new_folder_name = r\"D:\\\\Data\\\\Plants_2\\\\valid\\\\Basil diseased (P4b)\"\n",
    "\n",
    "os.rename(old_folder_name, new_folder_name)"
   ]
  },
  {
   "cell_type": "code",
   "execution_count": null,
   "id": "e0ce635b",
   "metadata": {
    "code_folding": [
     0
    ],
    "tags": []
   },
   "outputs": [],
   "source": [
    "#How many files do we have on the training folder?\n",
    "\n",
    "path = r\"D:\\\\Data\\\\Plants_2\\\\train\"\n",
    "image_counts = {}\n",
    "count = 0\n",
    "\n",
    "for root, dirs, files in os.walk(path):\n",
    "    count = 0\n",
    "    for file in files:\n",
    "        count += 1\n",
    "    if count > 0:\n",
    "        image_counts[root] = count\n",
    "\n",
    "# Display the image counts for each folder\n",
    "if image_counts:\n",
    "    for folder, count in image_counts.items():\n",
    "        print(\"Folder\", folder, \"contains\", count, \"images.\")\n",
    "else:\n",
    "    print(\"No images found in subfolders of\", path)\n"
   ]
  },
  {
   "cell_type": "code",
   "execution_count": null,
   "id": "41f0e5b7",
   "metadata": {
    "code_folding": [
     0
    ],
    "tags": []
   },
   "outputs": [],
   "source": [
    "#How many files do we have on the validation folder?\n",
    "\n",
    "path = r\"D:\\\\Data\\\\Plants_2\\\\valid\"\n",
    "image_counts = {}\n",
    "count = 0\n",
    "\n",
    "for root, dirs, files in os.walk(path):\n",
    "    count = 0\n",
    "    for file in files:\n",
    "        count += 1\n",
    "    if count > 0:\n",
    "        image_counts[root] = count\n",
    "\n",
    "# Display the image counts for each folder\n",
    "if image_counts:\n",
    "    for folder, count in image_counts.items():\n",
    "        print(\"Folder\", folder, \"contains\", count, \"images.\")\n",
    "else:\n",
    "    print(\"No images found in subfolders of\", path)"
   ]
  },
  {
   "cell_type": "markdown",
   "id": "d3b05a59",
   "metadata": {},
   "source": [
    "# Pre processing of training dataset"
   ]
  },
  {
   "cell_type": "code",
   "execution_count": null,
   "id": "33a6a982",
   "metadata": {
    "code_folding": [
     0
    ]
   },
   "outputs": [],
   "source": [
    "# Function to create new folder if not exists\n",
    "def make_new_folder(folder_name, parent_folder):\n",
    "    path = os.path.join(parent_folder, folder_name)\n",
    "\n",
    "    try:\n",
    "        # mode of the folder\n",
    "        mode = 0o777\n",
    "\n",
    "        # Create folder\n",
    "        os.mkdir(path, mode)\n",
    "    except OSError as error:\n",
    "        print(error)\n"
   ]
  },
  {
   "cell_type": "code",
   "execution_count": null,
   "id": "e442f339",
   "metadata": {
    "code_folding": [
     0
    ],
    "jupyter": {
     "source_hidden": true
    },
    "tags": []
   },
   "outputs": [],
   "source": [
    "#Merge folders of healthy and diseased plants into a single folder\n",
    "\n",
    "# merge Alstonia Scholaris diseased and healthy into one single folder\n",
    "current_folder = r\"D:\\\\Data\\\\Plants_2\\\\train\"\n",
    "\n",
    "# list of folders to be merged\n",
    "list_dir = ['Alstonia Scholaris diseased (P2a)', 'Alstonia Scholaris healthy (P2b)']\n",
    "\n",
    "# enumerate on list_dir to get the content of all the folders and store it in a dictionary\n",
    "content_list = {}\n",
    "for index, val in enumerate(list_dir):\n",
    "    path = os.path.join(current_folder, val)\n",
    "    content_list[ list_dir[index] ] = os.listdir(path)\n",
    "\n",
    "# folder in which all the content will be merged\n",
    "merge_folder = \"Alstonia Scholaris\"\n",
    "\n",
    "# merge_folder path = current_folder + merge_folder\n",
    "merge_folder_path = os.path.join(current_folder, merge_folder)\n",
    "\n",
    "# create merge_folder if not exists\n",
    "make_new_folder(merge_folder, current_folder)\n",
    "\n",
    "# loop through the list of folders\n",
    "for sub_dir in content_list:\n",
    "\n",
    "    # loop through the contents of the list of folders\n",
    "    for contents in content_list[sub_dir]:\n",
    "\n",
    "        # make the path of the content to move\n",
    "        path_to_content = sub_dir + \"/\" + contents\n",
    "\n",
    "        # make the path with the current folder\n",
    "        dir_to_move = os.path.join(current_folder, path_to_content)\n",
    "\n",
    "        # move the file\n",
    "        shutil.move(dir_to_move, merge_folder_path)\n",
    "\n",
    "os.rmdir(os.path.join(current_folder, list_dir[0]))\n",
    "os.rmdir(os.path.join(current_folder, list_dir[1]))\n",
    "\n",
    "\n",
    "# merge Arjun folders into one single folder\n",
    "current_folder = r\"D:\\\\Data\\\\Plants_2\\\\train\"\n",
    "\n",
    "# list of folders to be merged\n",
    "list_dir = ['Arjun diseased (P1a)', 'Arjun healthy (P1b)']\n",
    "\n",
    "# enumerate on list_dir to get the content of all the folders and store it in a dictionary\n",
    "content_list = {}\n",
    "for index, val in enumerate(list_dir):\n",
    "    path = os.path.join(current_folder, val)\n",
    "    content_list[ list_dir[index] ] = os.listdir(path)\n",
    "\n",
    "# folder in which all the content will be merged\n",
    "merge_folder = \"Arjun\"\n",
    "\n",
    "# merge_folder path = current_folder + merge_folder\n",
    "merge_folder_path = os.path.join(current_folder, merge_folder)\n",
    "\n",
    "# create merge_folder if not exists\n",
    "make_new_folder(merge_folder, current_folder)\n",
    "\n",
    "# loop through the list of folders\n",
    "for sub_dir in content_list:\n",
    "\n",
    "    # loop through the contents of the list of folders\n",
    "    for contents in content_list[sub_dir]:\n",
    "\n",
    "        # make the path of the content to move\n",
    "        path_to_content = sub_dir + \"/\" + contents\n",
    "\n",
    "        # make the path with the current folder\n",
    "        dir_to_move = os.path.join(current_folder, path_to_content)\n",
    "\n",
    "        # move the file\n",
    "        shutil.move(dir_to_move, merge_folder_path)\n",
    "        \n",
    "os.rmdir(os.path.join(current_folder, list_dir[0]))\n",
    "os.rmdir(os.path.join(current_folder, list_dir[1]))\n",
    "\n",
    "\n",
    "# merge Basil folders into one single folder\n",
    "current_folder = r\"D:\\\\Data\\\\Plants_2\\\\train\"\n",
    "\n",
    "# list of folders to be merged\n",
    "list_dir = ['Basil diseased (P4b)', 'Basil healthy (P8)']\n",
    "\n",
    "# enumerate on list_dir to get the content of all the folders and store it in a dictionary\n",
    "content_list = {}\n",
    "for index, val in enumerate(list_dir):\n",
    "    path = os.path.join(current_folder, val)\n",
    "    content_list[ list_dir[index] ] = os.listdir(path)\n",
    "\n",
    "# folder in which all the content will be merged\n",
    "merge_folder = \"Basil\"\n",
    "\n",
    "# merge_folder path = current_folder + merge_folder\n",
    "merge_folder_path = os.path.join(current_folder, merge_folder)\n",
    "\n",
    "# create merge_folder if not exists\n",
    "make_new_folder(merge_folder, current_folder)\n",
    "\n",
    "# loop through the list of folders\n",
    "for sub_dir in content_list:\n",
    "\n",
    "    # loop through the contents of the list of folders\n",
    "    for contents in content_list[sub_dir]:\n",
    "\n",
    "        # make the path of the content to move\n",
    "        path_to_content = sub_dir + \"/\" + contents\n",
    "\n",
    "        # make the path with the current folder\n",
    "        dir_to_move = os.path.join(current_folder, path_to_content)\n",
    "\n",
    "        # move the file\n",
    "        shutil.move(dir_to_move, merge_folder_path)\n",
    "        \n",
    "os.rmdir(os.path.join(current_folder, list_dir[0]))\n",
    "os.rmdir(os.path.join(current_folder, list_dir[1]))\n",
    "\n",
    "\n",
    "# merge Chinar folders into one single folder\n",
    "current_folder = r\"D:\\\\Data\\\\Plants_2\\\\train\"\n",
    "\n",
    "# list of folders to be merged\n",
    "list_dir = ['Chinar diseased (P11b)', 'Chinar healthy (P11a)']\n",
    "\n",
    "# enumerate on list_dir to get the content of all the folders and store it in a dictionary\n",
    "content_list = {}\n",
    "for index, val in enumerate(list_dir):\n",
    "    path = os.path.join(current_folder, val)\n",
    "    content_list[ list_dir[index] ] = os.listdir(path)\n",
    "\n",
    "# folder in which all the content will be merged\n",
    "merge_folder = \"Chinar\"\n",
    "\n",
    "# merge_folder path = current_folder + merge_folder\n",
    "merge_folder_path = os.path.join(current_folder, merge_folder)\n",
    "\n",
    "# create merge_folder if not exists\n",
    "make_new_folder(merge_folder, current_folder)\n",
    "\n",
    "# loop through the list of folders\n",
    "for sub_dir in content_list:\n",
    "\n",
    "    # loop through the contents of the list of folders\n",
    "    for contents in content_list[sub_dir]:\n",
    "\n",
    "        # make the path of the content to move\n",
    "        path_to_content = sub_dir + \"/\" + contents\n",
    "\n",
    "        # make the path with the current folder\n",
    "        dir_to_move = os.path.join(current_folder, path_to_content)\n",
    "\n",
    "        # move the file\n",
    "        shutil.move(dir_to_move, merge_folder_path)\n",
    "        \n",
    "os.rmdir(os.path.join(current_folder, list_dir[0]))\n",
    "os.rmdir(os.path.join(current_folder, list_dir[1]))\n",
    "\n",
    "\n",
    "# merge Gauva folders into one single folder\n",
    "current_folder = r\"D:\\\\Data\\\\Plants_2\\\\train\"\n",
    "\n",
    "# list of folders to be merged\n",
    "list_dir = ['Gauva diseased (P3b)', 'Gauva healthy (P3a)']\n",
    "\n",
    "# enumerate on list_dir to get the content of all the folders and store it in a dictionary\n",
    "content_list = {}\n",
    "for index, val in enumerate(list_dir):\n",
    "    path = os.path.join(current_folder, val)\n",
    "    content_list[ list_dir[index] ] = os.listdir(path)\n",
    "\n",
    "# folder in which all the content will be merged\n",
    "merge_folder = \"Gauva\"\n",
    "\n",
    "# merge_folder path = current_folder + merge_folder\n",
    "merge_folder_path = os.path.join(current_folder, merge_folder)\n",
    "\n",
    "# create merge_folder if not exists\n",
    "make_new_folder(merge_folder, current_folder)\n",
    "\n",
    "# loop through the list of folders\n",
    "for sub_dir in content_list:\n",
    "\n",
    "    # loop through the contents of the list of folders\n",
    "    for contents in content_list[sub_dir]:\n",
    "\n",
    "        # make the path of the content to move\n",
    "        path_to_content = sub_dir + \"/\" + contents\n",
    "\n",
    "        # make the path with the current folder\n",
    "        dir_to_move = os.path.join(current_folder, path_to_content)\n",
    "\n",
    "        # move the file\n",
    "        shutil.move(dir_to_move, merge_folder_path)\n",
    "        \n",
    "os.rmdir(os.path.join(current_folder, list_dir[0]))\n",
    "os.rmdir(os.path.join(current_folder, list_dir[1]))\n",
    "\n",
    "\n",
    "# merge Jamun folders into one single folder\n",
    "current_folder = r\"D:\\\\Data\\\\Plants_2\\\\train\"\n",
    "\n",
    "# list of folders to be merged\n",
    "list_dir = ['Jamun diseased (P5b)', 'Jamun healthy (P5a)']\n",
    "\n",
    "# enumerate on list_dir to get the content of all the folders and store it in a dictionary\n",
    "content_list = {}\n",
    "for index, val in enumerate(list_dir):\n",
    "    path = os.path.join(current_folder, val)\n",
    "    content_list[ list_dir[index] ] = os.listdir(path)\n",
    "\n",
    "# folder in which all the content will be merged\n",
    "merge_folder = \"Jamun\"\n",
    "\n",
    "# merge_folder path = current_folder + merge_folder\n",
    "merge_folder_path = os.path.join(current_folder, merge_folder)\n",
    "\n",
    "# create merge_folder if not exists\n",
    "make_new_folder(merge_folder, current_folder)\n",
    "\n",
    "# loop through the list of folders\n",
    "for sub_dir in content_list:\n",
    "\n",
    "    # loop through the contents of the list of folders\n",
    "    for contents in content_list[sub_dir]:\n",
    "\n",
    "        # make the path of the content to move\n",
    "        path_to_content = sub_dir + \"/\" + contents\n",
    "\n",
    "        # make the path with the current folder\n",
    "        dir_to_move = os.path.join(current_folder, path_to_content)\n",
    "\n",
    "        # move the file\n",
    "        shutil.move(dir_to_move, merge_folder_path)\n",
    "        \n",
    "os.rmdir(os.path.join(current_folder, list_dir[0]))\n",
    "os.rmdir(os.path.join(current_folder, list_dir[1]))\n",
    "\n",
    "\n",
    "# merge Jatropha folders into one single folder\n",
    "current_folder = r\"D:\\\\Data\\\\Plants_2\\\\train\"\n",
    "\n",
    "# list of folders to be merged\n",
    "list_dir = ['Jatropha diseased (P6b)', 'Jatropha healthy (P6a)']\n",
    "\n",
    "# enumerate on list_dir to get the content of all the folders and store it in a dictionary\n",
    "content_list = {}\n",
    "for index, val in enumerate(list_dir):\n",
    "    path = os.path.join(current_folder, val)\n",
    "    content_list[ list_dir[index] ] = os.listdir(path)\n",
    "\n",
    "# folder in which all the content will be merged\n",
    "merge_folder = \"Jatropha\"\n",
    "\n",
    "# merge_folder path = current_folder + merge_folder\n",
    "merge_folder_path = os.path.join(current_folder, merge_folder)\n",
    "\n",
    "# create merge_folder if not exists\n",
    "make_new_folder(merge_folder, current_folder)\n",
    "\n",
    "# loop through the list of folders\n",
    "for sub_dir in content_list:\n",
    "\n",
    "    # loop through the contents of the list of folders\n",
    "    for contents in content_list[sub_dir]:\n",
    "\n",
    "        # make the path of the content to move\n",
    "        path_to_content = sub_dir + \"/\" + contents\n",
    "\n",
    "        # make the path with the current folder\n",
    "        dir_to_move = os.path.join(current_folder, path_to_content)\n",
    "\n",
    "        # move the file\n",
    "        shutil.move(dir_to_move, merge_folder_path)\n",
    "        \n",
    "os.rmdir(os.path.join(current_folder, list_dir[0]))\n",
    "os.rmdir(os.path.join(current_folder, list_dir[1]))\n",
    "\n",
    "\n",
    "# merge Lemon folders into one single folder\n",
    "current_folder = r\"D:\\\\Data\\\\Plants_2\\\\train\"\n",
    "\n",
    "# list of folders to be merged\n",
    "list_dir = ['Lemon diseased (P10b)', 'Lemon healthy (P10a)']\n",
    "\n",
    "# enumerate on list_dir to get the content of all the folders and store it in a dictionary\n",
    "content_list = {}\n",
    "for index, val in enumerate(list_dir):\n",
    "    path = os.path.join(current_folder, val)\n",
    "    content_list[ list_dir[index] ] = os.listdir(path)\n",
    "\n",
    "# folder in which all the content will be merged\n",
    "merge_folder = \"Lemon\"\n",
    "\n",
    "# merge_folder path = current_folder + merge_folder\n",
    "merge_folder_path = os.path.join(current_folder, merge_folder)\n",
    "\n",
    "# create merge_folder if not exists\n",
    "make_new_folder(merge_folder, current_folder)\n",
    "\n",
    "# loop through the list of folders\n",
    "for sub_dir in content_list:\n",
    "\n",
    "    # loop through the contents of the list of folders\n",
    "    for contents in content_list[sub_dir]:\n",
    "\n",
    "        # make the path of the content to move\n",
    "        path_to_content = sub_dir + \"/\" + contents\n",
    "\n",
    "        # make the path with the current folder\n",
    "        dir_to_move = os.path.join(current_folder, path_to_content)\n",
    "\n",
    "        # move the file\n",
    "        shutil.move(dir_to_move, merge_folder_path)\n",
    "        \n",
    "os.rmdir(os.path.join(current_folder, list_dir[0]))\n",
    "os.rmdir(os.path.join(current_folder, list_dir[1]))\n",
    "\n",
    "\n",
    "# merge Mango folders into one single folder\n",
    "current_folder = r\"D:\\\\Data\\\\Plants_2\\\\train\"\n",
    "\n",
    "# list of folders to be merged\n",
    "list_dir = ['Mango diseased (P0b)', 'Mango healthy (P0a)']\n",
    "\n",
    "# enumerate on list_dir to get the content of all the folders and store it in a dictionary\n",
    "content_list = {}\n",
    "for index, val in enumerate(list_dir):\n",
    "    path = os.path.join(current_folder, val)\n",
    "    content_list[ list_dir[index] ] = os.listdir(path)\n",
    "\n",
    "# folder in which all the content will be merged\n",
    "merge_folder = \"Mango\"\n",
    "\n",
    "# merge_folder path = current_folder + merge_folder\n",
    "merge_folder_path = os.path.join(current_folder, merge_folder)\n",
    "\n",
    "# create merge_folder if not exists\n",
    "make_new_folder(merge_folder, current_folder)\n",
    "\n",
    "# loop through the list of folders\n",
    "for sub_dir in content_list:\n",
    "\n",
    "    # loop through the contents of the list of folders\n",
    "    for contents in content_list[sub_dir]:\n",
    "\n",
    "        # make the path of the content to move\n",
    "        path_to_content = sub_dir + \"/\" + contents\n",
    "\n",
    "        # make the path with the current folder\n",
    "        dir_to_move = os.path.join(current_folder, path_to_content)\n",
    "\n",
    "        # move the file\n",
    "        shutil.move(dir_to_move, merge_folder_path)\n",
    "        \n",
    "os.rmdir(os.path.join(current_folder, list_dir[0]))\n",
    "os.rmdir(os.path.join(current_folder, list_dir[1]))\n",
    "\n",
    "\n",
    "# merge Pomegranate folders into one single folder\n",
    "current_folder = r\"D:\\\\Data\\\\Plants_2\\\\train\"\n",
    "\n",
    "# list of folders to be merged\n",
    "list_dir = ['Pomegranate diseased (P9b)', 'Pomegranate healthy (P9a)']\n",
    "\n",
    "# enumerate on list_dir to get the content of all the folders and store it in a dictionary\n",
    "content_list = {}\n",
    "for index, val in enumerate(list_dir):\n",
    "    path = os.path.join(current_folder, val)\n",
    "    content_list[ list_dir[index] ] = os.listdir(path)\n",
    "\n",
    "# folder in which all the content will be merged\n",
    "merge_folder = \"Pomegranate\"\n",
    "\n",
    "# merge_folder path = current_folder + merge_folder\n",
    "merge_folder_path = os.path.join(current_folder, merge_folder)\n",
    "\n",
    "# create merge_folder if not exists\n",
    "make_new_folder(merge_folder, current_folder)\n",
    "\n",
    "# loop through the list of folders\n",
    "for sub_dir in content_list:\n",
    "\n",
    "    # loop through the contents of the list of folders\n",
    "    for contents in content_list[sub_dir]:\n",
    "\n",
    "        # make the path of the content to move\n",
    "        path_to_content = sub_dir + \"/\" + contents\n",
    "\n",
    "        # make the path with the current folder\n",
    "        dir_to_move = os.path.join(current_folder, path_to_content)\n",
    "\n",
    "        # move the file\n",
    "        shutil.move(dir_to_move, merge_folder_path)\n",
    "        \n",
    "os.rmdir(os.path.join(current_folder, list_dir[0]))\n",
    "os.rmdir(os.path.join(current_folder, list_dir[1]))\n",
    "\n",
    "\n",
    "# merge Pongamia Pinnata folders into one single folder\n",
    "current_folder = r\"D:\\\\Data\\\\Plants_2\\\\train\"\n",
    "\n",
    "# list of folders to be merged\n",
    "list_dir = ['Pongamia Pinnata diseased (P7b)', 'Pongamia Pinnata healthy (P7a)']\n",
    "\n",
    "# enumerate on list_dir to get the content of all the folders and store it in a dictionary\n",
    "content_list = {}\n",
    "for index, val in enumerate(list_dir):\n",
    "    path = os.path.join(current_folder, val)\n",
    "    content_list[ list_dir[index] ] = os.listdir(path)\n",
    "\n",
    "# folder in which all the content will be merged\n",
    "merge_folder = \"Pongamia Pinnata\"\n",
    "\n",
    "# merge_folder path = current_folder + merge_folder\n",
    "merge_folder_path = os.path.join(current_folder, merge_folder)\n",
    "\n",
    "# create merge_folder if not exists\n",
    "make_new_folder(merge_folder, current_folder)\n",
    "\n",
    "# loop through the list of folders\n",
    "for sub_dir in content_list:\n",
    "\n",
    "    # loop through the contents of the list of folders\n",
    "    for contents in content_list[sub_dir]:\n",
    "\n",
    "        # make the path of the content to move\n",
    "        path_to_content = sub_dir + \"/\" + contents\n",
    "\n",
    "        # make the path with the current folder\n",
    "        dir_to_move = os.path.join(current_folder, path_to_content)\n",
    "\n",
    "        # move the file\n",
    "        shutil.move(dir_to_move, merge_folder_path)\n",
    "        \n",
    "os.rmdir(os.path.join(current_folder, list_dir[0]))\n",
    "os.rmdir(os.path.join(current_folder, list_dir[1]))"
   ]
  },
  {
   "cell_type": "code",
   "execution_count": null,
   "id": "4f8b6923",
   "metadata": {
    "code_folding": [],
    "tags": []
   },
   "outputs": [],
   "source": [
    "#set categories\n",
    "directory = r\"D:\\Data\\Plants_2\\train\"\n",
    "categories = ['Alstonia Scholaris', 'Arjun', 'Basil', \n",
    "              'Chinar', 'Gauva', 'Jamun', 'Jatropha', \n",
    "              'Lemon', 'Mango', 'Pomegranate', 'Pongamia Pinnata']"
   ]
  },
  {
   "cell_type": "code",
   "execution_count": null,
   "id": "9bca6b3f",
   "metadata": {
    "code_folding": [],
    "tags": []
   },
   "outputs": [],
   "source": [
    "#resize images\n",
    "img_size=200\n",
    "\n",
    "data=[]\n",
    "\n",
    "for category in categories:\n",
    "    folder=os.path.join(directory, category)\n",
    "    label=categories.index(category)\n",
    "    for img in os.listdir(folder):\n",
    "        img_path=os.path.join(folder, img)\n",
    "        img_arr=cv2.imread(img_path)\n",
    "        img_arr=cv2.resize(img_arr, (img_size, img_size))\n",
    "        data.append([img_arr, label])"
   ]
  },
  {
   "cell_type": "code",
   "execution_count": null,
   "id": "e26a478c",
   "metadata": {
    "code_folding": [],
    "tags": []
   },
   "outputs": [],
   "source": [
    "#check images size\n",
    "print(len(data)) #check dataset size \n",
    "print(len(data[random.randint(0,len(data))][0])) #check if the size of a random image is 200"
   ]
  },
  {
   "cell_type": "code",
   "execution_count": null,
   "id": "5076239a-3e96-4842-a16d-15429a601516",
   "metadata": {
    "tags": []
   },
   "outputs": [],
   "source": [
    "#check data composition of an image\n",
    "print(data[0][0][199])"
   ]
  },
  {
   "cell_type": "code",
   "execution_count": null,
   "id": "a059ede8",
   "metadata": {
    "tags": []
   },
   "outputs": [],
   "source": [
    "data[random.randint(0,len(data))][0]"
   ]
  },
  {
   "cell_type": "code",
   "execution_count": null,
   "id": "c42ea2cf",
   "metadata": {
    "code_folding": [],
    "tags": []
   },
   "outputs": [],
   "source": [
    "#split features and labels in data\n",
    "X_train = []\n",
    "y_train = []\n",
    "\n",
    "for features, labels in data:\n",
    "    X_train.append(features)\n",
    "    y_train.append(labels)\n",
    "    \n",
    "    \n",
    "#transform data to np arrays\n",
    "X_train=np.array(X_train)\n",
    "y_train=np.array(y_train)\n",
    "\n",
    "#check lenght of features and labels\n",
    "print(len(X_train))\n",
    "print(len(y_train))\n",
    "\n",
    "#scale features for easier processing\n",
    "X_train=X_train/255\n",
    "\n",
    "#check shape\n",
    "X_train.shape\n",
    "\n",
    "#one hot encoding for y_train\n",
    "b = np.zeros((y_train.size, y_train.max() + 1))\n",
    "b[np.arange(y_train.size), y_train] = 1\n",
    "y_train = b\n",
    "\n",
    "y_train[random.randint(0,len(y_train))]\n",
    "y_train.shape"
   ]
  },
  {
   "cell_type": "code",
   "execution_count": null,
   "id": "03d009f0",
   "metadata": {},
   "outputs": [],
   "source": [
    "#just in case - one hot encoding for y_train\n",
    "values = array(categories)\n",
    "print(values)\n",
    "\n",
    "# integer encode\n",
    "label_encoder = LabelEncoder()\n",
    "integer_encoded = label_encoder.fit_transform(values)\n",
    "print(integer_encoded)\n",
    "\n",
    "# binary encode\n",
    "onehot_encoder = OneHotEncoder(sparse_output=False)\n",
    "integer_encoded = integer_encoded.reshape(len(integer_encoded), 1)\n",
    "onehot_encoded = onehot_encoder.fit_transform(integer_encoded)\n",
    "print(onehot_encoded)\n",
    "\n",
    "# invert one hot encoding\n",
    "inverted = label_encoder.inverse_transform([argmax(onehot_encoded[0, :])])\n",
    "print(inverted)"
   ]
  },
  {
   "cell_type": "code",
   "execution_count": null,
   "id": "dc293dbf",
   "metadata": {
    "code_folding": []
   },
   "outputs": [],
   "source": [
    "#save progress\n",
    "pickle.dump(X_train, open(r'D:\\Data\\pkl\\X_train.pkl', \"wb\"))\n",
    "pickle.dump(y_train, open(r'D:\\Data\\pkl\\y_train.pkl', \"wb\"))"
   ]
  },
  {
   "cell_type": "markdown",
   "id": "6151cfe2",
   "metadata": {},
   "source": [
    "# Pre processing of test dataset"
   ]
  },
  {
   "cell_type": "code",
   "execution_count": null,
   "id": "4b838534",
   "metadata": {
    "code_folding": [
     0
    ],
    "jupyter": {
     "source_hidden": true
    },
    "tags": []
   },
   "outputs": [],
   "source": [
    "#merge diseased and healthy folders into one single folder for each category of plant \n",
    "\n",
    "current_folder = r\"D:\\\\Data\\\\Plants_2\\\\test\"\n",
    "\n",
    "\n",
    "#merge Alstonia Scholaris diseased and healthy into one single folder\n",
    "\n",
    "# list of folders to be merged\n",
    "list_dir = ['Alstonia Scholaris diseased (P2a)', 'Alstonia Scholaris healthy (P2b)']\n",
    "\n",
    "# enumerate on list_dir to get the content of all the folders and store it in a dictionary\n",
    "content_list = {}\n",
    "for index, val in enumerate(list_dir):\n",
    "    path = os.path.join(current_folder, val)\n",
    "    content_list[ list_dir[index] ] = os.listdir(path)\n",
    "\n",
    "# folder in which all the content will be merged\n",
    "merge_folder = \"Alstonia Scholaris\"\n",
    "\n",
    "# merge_folder path = current_folder + merge_folder\n",
    "merge_folder_path = os.path.join(current_folder, merge_folder)\n",
    "\n",
    "# create merge_folder if not exists\n",
    "make_new_folder(merge_folder, current_folder)\n",
    "\n",
    "# loop through the list of folders\n",
    "for sub_dir in content_list:\n",
    "\n",
    "    # loop through the contents of the list of folders\n",
    "    for contents in content_list[sub_dir]:\n",
    "\n",
    "        # make the path of the content to move\n",
    "        path_to_content = sub_dir + \"/\" + contents\n",
    "\n",
    "        # make the path with the current folder\n",
    "        dir_to_move = os.path.join(current_folder, path_to_content)\n",
    "\n",
    "        # move the file\n",
    "        shutil.move(dir_to_move, merge_folder_path)\n",
    "\n",
    "os.rmdir(os.path.join(current_folder, list_dir[0]))\n",
    "os.rmdir(os.path.join(current_folder, list_dir[1]))\n",
    "\n",
    "# merge Arjun folders into one single folder\n",
    "\n",
    "# list of folders to be merged\n",
    "list_dir = ['Arjun diseased (P1a)', 'Arjun healthy (P1b)']\n",
    "\n",
    "# enumerate on list_dir to get the content of all the folders and store it in a dictionary\n",
    "content_list = {}\n",
    "for index, val in enumerate(list_dir):\n",
    "    path = os.path.join(current_folder, val)\n",
    "    content_list[ list_dir[index] ] = os.listdir(path)\n",
    "\n",
    "# folder in which all the content will be merged\n",
    "merge_folder = \"Arjun\"\n",
    "\n",
    "# merge_folder path = current_folder + merge_folder\n",
    "merge_folder_path = os.path.join(current_folder, merge_folder)\n",
    "\n",
    "# create merge_folder if not exists\n",
    "make_new_folder(merge_folder, current_folder)\n",
    "\n",
    "# loop through the list of folders\n",
    "for sub_dir in content_list:\n",
    "\n",
    "    # loop through the contents of the list of folders\n",
    "    for contents in content_list[sub_dir]:\n",
    "\n",
    "        # make the path of the content to move\n",
    "        path_to_content = sub_dir + \"/\" + contents\n",
    "\n",
    "        # make the path with the current folder\n",
    "        dir_to_move = os.path.join(current_folder, path_to_content)\n",
    "\n",
    "        # move the file\n",
    "        shutil.move(dir_to_move, merge_folder_path)\n",
    "        \n",
    "os.rmdir(os.path.join(current_folder, list_dir[0]))\n",
    "os.rmdir(os.path.join(current_folder, list_dir[1]))\n",
    "\n",
    "# merge Basil folders into one single folder\n",
    "\n",
    "# list of folders to be merged\n",
    "list_dir = ['Basil diseased (P4b)', 'Basil healthy (P8)']\n",
    "\n",
    "# enumerate on list_dir to get the content of all the folders and store it in a dictionary\n",
    "content_list = {}\n",
    "for index, val in enumerate(list_dir):\n",
    "    path = os.path.join(current_folder, val)\n",
    "    content_list[ list_dir[index] ] = os.listdir(path)\n",
    "\n",
    "# folder in which all the content will be merged\n",
    "merge_folder = \"Basil\"\n",
    "\n",
    "# merge_folder path = current_folder + merge_folder\n",
    "merge_folder_path = os.path.join(current_folder, merge_folder)\n",
    "\n",
    "# create merge_folder if not exists\n",
    "make_new_folder(merge_folder, current_folder)\n",
    "\n",
    "# loop through the list of folders\n",
    "for sub_dir in content_list:\n",
    "\n",
    "    # loop through the contents of the list of folders\n",
    "    for contents in content_list[sub_dir]:\n",
    "\n",
    "        # make the path of the content to move\n",
    "        path_to_content = sub_dir + \"/\" + contents\n",
    "\n",
    "        # make the path with the current folder\n",
    "        dir_to_move = os.path.join(current_folder, path_to_content)\n",
    "\n",
    "        # move the file\n",
    "        shutil.move(dir_to_move, merge_folder_path)\n",
    "        \n",
    "os.rmdir(os.path.join(current_folder, list_dir[0]))\n",
    "os.rmdir(os.path.join(current_folder, list_dir[1]))\n",
    "\n",
    "# merge Chinar folders into one single folder\n",
    "\n",
    "# list of folders to be merged\n",
    "list_dir = ['Chinar diseased (P11b)', 'Chinar healthy (P11a)']\n",
    "\n",
    "# enumerate on list_dir to get the content of all the folders and store it in a dictionary\n",
    "content_list = {}\n",
    "for index, val in enumerate(list_dir):\n",
    "    path = os.path.join(current_folder, val)\n",
    "    content_list[ list_dir[index] ] = os.listdir(path)\n",
    "\n",
    "# folder in which all the content will be merged\n",
    "merge_folder = \"Chinar\"\n",
    "\n",
    "# merge_folder path = current_folder + merge_folder\n",
    "merge_folder_path = os.path.join(current_folder, merge_folder)\n",
    "\n",
    "# create merge_folder if not exists\n",
    "make_new_folder(merge_folder, current_folder)\n",
    "\n",
    "# loop through the list of folders\n",
    "for sub_dir in content_list:\n",
    "\n",
    "    # loop through the contents of the list of folders\n",
    "    for contents in content_list[sub_dir]:\n",
    "\n",
    "        # make the path of the content to move\n",
    "        path_to_content = sub_dir + \"/\" + contents\n",
    "\n",
    "        # make the path with the current folder\n",
    "        dir_to_move = os.path.join(current_folder, path_to_content)\n",
    "\n",
    "        # move the file\n",
    "        shutil.move(dir_to_move, merge_folder_path)\n",
    "        \n",
    "os.rmdir(os.path.join(current_folder, list_dir[0]))\n",
    "os.rmdir(os.path.join(current_folder, list_dir[1]))\n",
    "\n",
    "# merge Gauva folders into one single folder\n",
    "\n",
    "# list of folders to be merged\n",
    "list_dir = ['Gauva diseased (P3b)', 'Gauva healthy (P3a)']\n",
    "\n",
    "# enumerate on list_dir to get the content of all the folders and store it in a dictionary\n",
    "content_list = {}\n",
    "for index, val in enumerate(list_dir):\n",
    "    path = os.path.join(current_folder, val)\n",
    "    content_list[ list_dir[index] ] = os.listdir(path)\n",
    "\n",
    "# folder in which all the content will be merged\n",
    "merge_folder = \"Gauva\"\n",
    "\n",
    "# merge_folder path = current_folder + merge_folder\n",
    "merge_folder_path = os.path.join(current_folder, merge_folder)\n",
    "\n",
    "# create merge_folder if not exists\n",
    "make_new_folder(merge_folder, current_folder)\n",
    "\n",
    "# loop through the list of folders\n",
    "for sub_dir in content_list:\n",
    "\n",
    "    # loop through the contents of the list of folders\n",
    "    for contents in content_list[sub_dir]:\n",
    "\n",
    "        # make the path of the content to move\n",
    "        path_to_content = sub_dir + \"/\" + contents\n",
    "\n",
    "        # make the path with the current folder\n",
    "        dir_to_move = os.path.join(current_folder, path_to_content)\n",
    "\n",
    "        # move the file\n",
    "        shutil.move(dir_to_move, merge_folder_path)\n",
    "        \n",
    "os.rmdir(os.path.join(current_folder, list_dir[0]))\n",
    "os.rmdir(os.path.join(current_folder, list_dir[1]))\n",
    "\n",
    "# merge Jamun folders into one single folder\n",
    "\n",
    "# list of folders to be merged\n",
    "list_dir = ['Jamun diseased (P5b)', 'Jamun healthy (P5a)']\n",
    "\n",
    "# enumerate on list_dir to get the content of all the folders and store it in a dictionary\n",
    "content_list = {}\n",
    "for index, val in enumerate(list_dir):\n",
    "    path = os.path.join(current_folder, val)\n",
    "    content_list[ list_dir[index] ] = os.listdir(path)\n",
    "\n",
    "# folder in which all the content will be merged\n",
    "merge_folder = \"Jamun\"\n",
    "\n",
    "# merge_folder path = current_folder + merge_folder\n",
    "merge_folder_path = os.path.join(current_folder, merge_folder)\n",
    "\n",
    "# create merge_folder if not exists\n",
    "make_new_folder(merge_folder, current_folder)\n",
    "\n",
    "# loop through the list of folders\n",
    "for sub_dir in content_list:\n",
    "\n",
    "    # loop through the contents of the list of folders\n",
    "    for contents in content_list[sub_dir]:\n",
    "\n",
    "        # make the path of the content to move\n",
    "        path_to_content = sub_dir + \"/\" + contents\n",
    "\n",
    "        # make the path with the current folder\n",
    "        dir_to_move = os.path.join(current_folder, path_to_content)\n",
    "\n",
    "        # move the file\n",
    "        shutil.move(dir_to_move, merge_folder_path)\n",
    "        \n",
    "os.rmdir(os.path.join(current_folder, list_dir[0]))\n",
    "os.rmdir(os.path.join(current_folder, list_dir[1]))\n",
    "\n",
    "# merge Jatropha folders into one single folder\n",
    "\n",
    "# list of folders to be merged\n",
    "list_dir = ['Jatropha diseased (P6b)', 'Jatropha healthy (P6a)']\n",
    "\n",
    "# enumerate on list_dir to get the content of all the folders and store it in a dictionary\n",
    "content_list = {}\n",
    "for index, val in enumerate(list_dir):\n",
    "    path = os.path.join(current_folder, val)\n",
    "    content_list[ list_dir[index] ] = os.listdir(path)\n",
    "\n",
    "# folder in which all the content will be merged\n",
    "merge_folder = \"Jatropha\"\n",
    "\n",
    "# merge_folder path = current_folder + merge_folder\n",
    "merge_folder_path = os.path.join(current_folder, merge_folder)\n",
    "\n",
    "# create merge_folder if not exists\n",
    "make_new_folder(merge_folder, current_folder)\n",
    "\n",
    "# loop through the list of folders\n",
    "for sub_dir in content_list:\n",
    "\n",
    "    # loop through the contents of the list of folders\n",
    "    for contents in content_list[sub_dir]:\n",
    "\n",
    "        # make the path of the content to move\n",
    "        path_to_content = sub_dir + \"/\" + contents\n",
    "\n",
    "        # make the path with the current folder\n",
    "        dir_to_move = os.path.join(current_folder, path_to_content)\n",
    "\n",
    "        # move the file\n",
    "        shutil.move(dir_to_move, merge_folder_path)\n",
    "        \n",
    "os.rmdir(os.path.join(current_folder, list_dir[0]))\n",
    "os.rmdir(os.path.join(current_folder, list_dir[1]))\n",
    "\n",
    "# merge Lemon folders into one single folder\n",
    "\n",
    "# list of folders to be merged\n",
    "list_dir = ['Lemon diseased (P10b)', 'Lemon healthy (P10a)']\n",
    "\n",
    "# enumerate on list_dir to get the content of all the folders and store it in a dictionary\n",
    "content_list = {}\n",
    "for index, val in enumerate(list_dir):\n",
    "    path = os.path.join(current_folder, val)\n",
    "    content_list[ list_dir[index] ] = os.listdir(path)\n",
    "\n",
    "# folder in which all the content will be merged\n",
    "merge_folder = \"Lemon\"\n",
    "\n",
    "# merge_folder path = current_folder + merge_folder\n",
    "merge_folder_path = os.path.join(current_folder, merge_folder)\n",
    "\n",
    "# create merge_folder if not exists\n",
    "make_new_folder(merge_folder, current_folder)\n",
    "\n",
    "# loop through the list of folders\n",
    "for sub_dir in content_list:\n",
    "\n",
    "    # loop through the contents of the list of folders\n",
    "    for contents in content_list[sub_dir]:\n",
    "\n",
    "        # make the path of the content to move\n",
    "        path_to_content = sub_dir + \"/\" + contents\n",
    "\n",
    "        # make the path with the current folder\n",
    "        dir_to_move = os.path.join(current_folder, path_to_content)\n",
    "\n",
    "        # move the file\n",
    "        shutil.move(dir_to_move, merge_folder_path)\n",
    "        \n",
    "os.rmdir(os.path.join(current_folder, list_dir[0]))\n",
    "os.rmdir(os.path.join(current_folder, list_dir[1]))\n",
    "\n",
    "# merge Mango folders into one single folder\n",
    "\n",
    "# list of folders to be merged\n",
    "list_dir = ['Mango diseased (P0b)', 'Mango healthy (P0a)']\n",
    "\n",
    "# enumerate on list_dir to get the content of all the folders and store it in a dictionary\n",
    "content_list = {}\n",
    "for index, val in enumerate(list_dir):\n",
    "    path = os.path.join(current_folder, val)\n",
    "    content_list[ list_dir[index] ] = os.listdir(path)\n",
    "\n",
    "# folder in which all the content will be merged\n",
    "merge_folder = \"Mango\"\n",
    "\n",
    "# merge_folder path = current_folder + merge_folder\n",
    "merge_folder_path = os.path.join(current_folder, merge_folder)\n",
    "\n",
    "# create merge_folder if not exists\n",
    "make_new_folder(merge_folder, current_folder)\n",
    "\n",
    "# loop through the list of folders\n",
    "for sub_dir in content_list:\n",
    "\n",
    "    # loop through the contents of the list of folders\n",
    "    for contents in content_list[sub_dir]:\n",
    "\n",
    "        # make the path of the content to move\n",
    "        path_to_content = sub_dir + \"/\" + contents\n",
    "\n",
    "        # make the path with the current folder\n",
    "        dir_to_move = os.path.join(current_folder, path_to_content)\n",
    "\n",
    "        # move the file\n",
    "        shutil.move(dir_to_move, merge_folder_path)\n",
    "        \n",
    "os.rmdir(os.path.join(current_folder, list_dir[0]))\n",
    "os.rmdir(os.path.join(current_folder, list_dir[1]))\n",
    "\n",
    "# merge Pomegranate folders into one single folder\n",
    "\n",
    "# list of folders to be merged\n",
    "list_dir = ['Pomegranate diseased (P9b)', 'Pomegranate healthy (P9a)']\n",
    "\n",
    "# enumerate on list_dir to get the content of all the folders and store it in a dictionary\n",
    "content_list = {}\n",
    "for index, val in enumerate(list_dir):\n",
    "    path = os.path.join(current_folder, val)\n",
    "    content_list[ list_dir[index] ] = os.listdir(path)\n",
    "\n",
    "# folder in which all the content will be merged\n",
    "merge_folder = \"Pomegranate\"\n",
    "\n",
    "# merge_folder path = current_folder + merge_folder\n",
    "merge_folder_path = os.path.join(current_folder, merge_folder)\n",
    "\n",
    "# create merge_folder if not exists\n",
    "make_new_folder(merge_folder, current_folder)\n",
    "\n",
    "# loop through the list of folders\n",
    "for sub_dir in content_list:\n",
    "\n",
    "    # loop through the contents of the list of folders\n",
    "    for contents in content_list[sub_dir]:\n",
    "\n",
    "        # make the path of the content to move\n",
    "        path_to_content = sub_dir + \"/\" + contents\n",
    "\n",
    "        # make the path with the current folder\n",
    "        dir_to_move = os.path.join(current_folder, path_to_content)\n",
    "\n",
    "        # move the file\n",
    "        shutil.move(dir_to_move, merge_folder_path)\n",
    "        \n",
    "os.rmdir(os.path.join(current_folder, list_dir[0]))\n",
    "os.rmdir(os.path.join(current_folder, list_dir[1]))\n",
    "\n",
    "# merge Pongamia Pinnata folders into one single folder\n",
    "\n",
    "# list of folders to be merged\n",
    "list_dir = ['Pongamia Pinnata diseased (P7b)', 'Pongamia Pinnata healthy (P7a)']\n",
    "\n",
    "# enumerate on list_dir to get the content of all the folders and store it in a dictionary\n",
    "content_list = {}\n",
    "for index, val in enumerate(list_dir):\n",
    "    path = os.path.join(current_folder, val)\n",
    "    content_list[ list_dir[index] ] = os.listdir(path)\n",
    "\n",
    "# folder in which all the content will be merged\n",
    "merge_folder = \"Pongamia Pinnata\"\n",
    "\n",
    "# merge_folder path = current_folder + merge_folder\n",
    "merge_folder_path = os.path.join(current_folder, merge_folder)\n",
    "\n",
    "# create merge_folder if not exists\n",
    "make_new_folder(merge_folder, current_folder)\n",
    "\n",
    "# loop through the list of folders\n",
    "for sub_dir in content_list:\n",
    "\n",
    "    # loop through the contents of the list of folders\n",
    "    for contents in content_list[sub_dir]:\n",
    "\n",
    "        # make the path of the content to move\n",
    "        path_to_content = sub_dir + \"/\" + contents\n",
    "\n",
    "        # make the path with the current folder\n",
    "        dir_to_move = os.path.join(current_folder, path_to_content)\n",
    "\n",
    "        # move the file\n",
    "        shutil.move(dir_to_move, merge_folder_path)\n",
    "        \n",
    "os.rmdir(os.path.join(current_folder, list_dir[0]))\n",
    "os.rmdir(os.path.join(current_folder, list_dir[1]))"
   ]
  },
  {
   "cell_type": "code",
   "execution_count": 76,
   "id": "5d4e0c5d",
   "metadata": {
    "code_folding": []
   },
   "outputs": [],
   "source": [
    "#set categories\n",
    "directory = r\"D:\\Data\\Plants_2\\test\"\n",
    "categories = ['Alstonia Scholaris', 'Arjun', 'Basil', \n",
    "              'Chinar', 'Gauva', 'Jamun', 'Jatropha', \n",
    "              'Lemon', 'Mango', 'Pomegranate', 'Pongamia Pinnata']\n",
    "\n",
    "#now, we need to merge the healty and diseased folders of each plant species"
   ]
  },
  {
   "cell_type": "code",
   "execution_count": null,
   "id": "c608967c",
   "metadata": {
    "code_folding": []
   },
   "outputs": [],
   "source": [
    "#resize images\n",
    "img_size=200\n",
    "\n",
    "data=[]\n",
    "\n",
    "for category in categories:\n",
    "    folder=os.path.join(directory, category)\n",
    "    label=categories.index(category)\n",
    "    for img in os.listdir(folder):\n",
    "        img_path=os.path.join(folder, img)\n",
    "        img_arr=cv2.imread(img_path)\n",
    "        img_arr=cv2.resize(img_arr, (img_size, img_size))\n",
    "        data.append([img_arr, label])"
   ]
  },
  {
   "cell_type": "code",
   "execution_count": null,
   "id": "60e9e7be",
   "metadata": {
    "code_folding": [
     0
    ]
   },
   "outputs": [],
   "source": [
    "#check images size\n",
    "print(len(data)) #check dataset size after dropping damaged images\n",
    "print(len(data[random.randint(0,len(data))][0])) #check if the size of a random image is 200"
   ]
  },
  {
   "cell_type": "code",
   "execution_count": null,
   "id": "902d82dd",
   "metadata": {
    "code_folding": []
   },
   "outputs": [],
   "source": [
    "#split features and labels in data\n",
    "X_test = []\n",
    "y_test = []\n",
    "\n",
    "for features, labels in data:\n",
    "    X_test.append(features)\n",
    "    y_test.append(labels)\n",
    "    \n",
    "    \n",
    "#transform data to np arrays\n",
    "X_test=np.array(X_test)\n",
    "y_test=np.array(y_test)\n",
    "\n",
    "#check lenght of features and labels\n",
    "print(len(X_test))\n",
    "print(len(y_test))\n",
    "\n",
    "#scale features for easier processing\n",
    "X_test=X_test/255\n",
    "\n",
    "#check shape\n",
    "X_test.shape\n",
    "\n",
    "#one hot encoding for y_test\n",
    "b = np.zeros((y_test.size, y_test.max() + 1))\n",
    "b[np.arange(y_test.size), y_test] = 1\n",
    "y_test = b\n",
    "\n",
    "y_test[random.randint(0,len(y_test))]\n",
    "y_test.shape"
   ]
  },
  {
   "cell_type": "code",
   "execution_count": null,
   "id": "7128621b",
   "metadata": {
    "code_folding": [
     0
    ]
   },
   "outputs": [],
   "source": [
    "#save progress\n",
    "pickle.dump(X_test, open(r'D:\\Data\\pkl\\X_test.pkl', \"wb\"))\n",
    "pickle.dump(y_test, open(r'D:\\Data\\pkl\\y_test.pkl', \"wb\"))"
   ]
  },
  {
   "cell_type": "markdown",
   "id": "d7e7c264",
   "metadata": {},
   "source": [
    "# Pre processing of validation dataset"
   ]
  },
  {
   "cell_type": "code",
   "execution_count": null,
   "id": "03021593",
   "metadata": {
    "code_folding": [
     0
    ],
    "jupyter": {
     "source_hidden": true
    },
    "tags": []
   },
   "outputs": [],
   "source": [
    "#merge diseased and healthy folders into one single folder for each category of plant \n",
    "\n",
    "current_folder = r\"D:\\\\Data\\\\Plants_2\\\\valid\"\n",
    "\n",
    "\n",
    "#merge Alstonia Scholaris diseased and healthy into one single folder\n",
    "\n",
    "# list of folders to be merged\n",
    "list_dir = ['Alstonia Scholaris diseased (P2a)', 'Alstonia Scholaris healthy (P2b)']\n",
    "\n",
    "# enumerate on list_dir to get the content of all the folders and store it in a dictionary\n",
    "content_list = {}\n",
    "for index, val in enumerate(list_dir):\n",
    "    path = os.path.join(current_folder, val)\n",
    "    content_list[ list_dir[index] ] = os.listdir(path)\n",
    "\n",
    "# folder in which all the content will be merged\n",
    "merge_folder = \"Alstonia Scholaris\"\n",
    "\n",
    "# merge_folder path = current_folder + merge_folder\n",
    "merge_folder_path = os.path.join(current_folder, merge_folder)\n",
    "\n",
    "# create merge_folder if not exists\n",
    "make_new_folder(merge_folder, current_folder)\n",
    "\n",
    "# loop through the list of folders\n",
    "for sub_dir in content_list:\n",
    "\n",
    "    # loop through the contents of the list of folders\n",
    "    for contents in content_list[sub_dir]:\n",
    "\n",
    "        # make the path of the content to move\n",
    "        path_to_content = sub_dir + \"/\" + contents\n",
    "\n",
    "        # make the path with the current folder\n",
    "        dir_to_move = os.path.join(current_folder, path_to_content)\n",
    "\n",
    "        # move the file\n",
    "        shutil.move(dir_to_move, merge_folder_path)\n",
    "\n",
    "os.rmdir(os.path.join(current_folder, list_dir[0]))\n",
    "os.rmdir(os.path.join(current_folder, list_dir[1]))\n",
    "\n",
    "# merge Arjun folders into one single folder\n",
    "\n",
    "# list of folders to be merged\n",
    "list_dir = ['Arjun diseased (P1a)', 'Arjun healthy (P1b)']\n",
    "\n",
    "# enumerate on list_dir to get the content of all the folders and store it in a dictionary\n",
    "content_list = {}\n",
    "for index, val in enumerate(list_dir):\n",
    "    path = os.path.join(current_folder, val)\n",
    "    content_list[ list_dir[index] ] = os.listdir(path)\n",
    "\n",
    "# folder in which all the content will be merged\n",
    "merge_folder = \"Arjun\"\n",
    "\n",
    "# merge_folder path = current_folder + merge_folder\n",
    "merge_folder_path = os.path.join(current_folder, merge_folder)\n",
    "\n",
    "# create merge_folder if not exists\n",
    "make_new_folder(merge_folder, current_folder)\n",
    "\n",
    "# loop through the list of folders\n",
    "for sub_dir in content_list:\n",
    "\n",
    "    # loop through the contents of the list of folders\n",
    "    for contents in content_list[sub_dir]:\n",
    "\n",
    "        # make the path of the content to move\n",
    "        path_to_content = sub_dir + \"/\" + contents\n",
    "\n",
    "        # make the path with the current folder\n",
    "        dir_to_move = os.path.join(current_folder, path_to_content)\n",
    "\n",
    "        # move the file\n",
    "        shutil.move(dir_to_move, merge_folder_path)\n",
    "        \n",
    "os.rmdir(os.path.join(current_folder, list_dir[0]))\n",
    "os.rmdir(os.path.join(current_folder, list_dir[1]))\n",
    "\n",
    "# merge Basil folders into one single folder\n",
    "\n",
    "# list of folders to be merged\n",
    "list_dir = ['Basil diseased (P4b)', 'Basil healthy (P8)']\n",
    "\n",
    "# enumerate on list_dir to get the content of all the folders and store it in a dictionary\n",
    "content_list = {}\n",
    "for index, val in enumerate(list_dir):\n",
    "    path = os.path.join(current_folder, val)\n",
    "    content_list[ list_dir[index] ] = os.listdir(path)\n",
    "\n",
    "# folder in which all the content will be merged\n",
    "merge_folder = \"Basil\"\n",
    "\n",
    "# merge_folder path = current_folder + merge_folder\n",
    "merge_folder_path = os.path.join(current_folder, merge_folder)\n",
    "\n",
    "# create merge_folder if not exists\n",
    "make_new_folder(merge_folder, current_folder)\n",
    "\n",
    "# loop through the list of folders\n",
    "for sub_dir in content_list:\n",
    "\n",
    "    # loop through the contents of the list of folders\n",
    "    for contents in content_list[sub_dir]:\n",
    "\n",
    "        # make the path of the content to move\n",
    "        path_to_content = sub_dir + \"/\" + contents\n",
    "\n",
    "        # make the path with the current folder\n",
    "        dir_to_move = os.path.join(current_folder, path_to_content)\n",
    "\n",
    "        # move the file\n",
    "        shutil.move(dir_to_move, merge_folder_path)\n",
    "        \n",
    "os.rmdir(os.path.join(current_folder, list_dir[0]))\n",
    "os.rmdir(os.path.join(current_folder, list_dir[1]))\n",
    "\n",
    "# merge Chinar folders into one single folder\n",
    "\n",
    "# list of folders to be merged\n",
    "list_dir = ['Chinar diseased (P11b)', 'Chinar healthy (P11a)']\n",
    "\n",
    "# enumerate on list_dir to get the content of all the folders and store it in a dictionary\n",
    "content_list = {}\n",
    "for index, val in enumerate(list_dir):\n",
    "    path = os.path.join(current_folder, val)\n",
    "    content_list[ list_dir[index] ] = os.listdir(path)\n",
    "\n",
    "# folder in which all the content will be merged\n",
    "merge_folder = \"Chinar\"\n",
    "\n",
    "# merge_folder path = current_folder + merge_folder\n",
    "merge_folder_path = os.path.join(current_folder, merge_folder)\n",
    "\n",
    "# create merge_folder if not exists\n",
    "make_new_folder(merge_folder, current_folder)\n",
    "\n",
    "# loop through the list of folders\n",
    "for sub_dir in content_list:\n",
    "\n",
    "    # loop through the contents of the list of folders\n",
    "    for contents in content_list[sub_dir]:\n",
    "\n",
    "        # make the path of the content to move\n",
    "        path_to_content = sub_dir + \"/\" + contents\n",
    "\n",
    "        # make the path with the current folder\n",
    "        dir_to_move = os.path.join(current_folder, path_to_content)\n",
    "\n",
    "        # move the file\n",
    "        shutil.move(dir_to_move, merge_folder_path)\n",
    "        \n",
    "os.rmdir(os.path.join(current_folder, list_dir[0]))\n",
    "os.rmdir(os.path.join(current_folder, list_dir[1]))\n",
    "\n",
    "# merge Gauva folders into one single folder\n",
    "\n",
    "# list of folders to be merged\n",
    "list_dir = ['Gauva diseased (P3b)', 'Gauva healthy (P3a)']\n",
    "\n",
    "# enumerate on list_dir to get the content of all the folders and store it in a dictionary\n",
    "content_list = {}\n",
    "for index, val in enumerate(list_dir):\n",
    "    path = os.path.join(current_folder, val)\n",
    "    content_list[ list_dir[index] ] = os.listdir(path)\n",
    "\n",
    "# folder in which all the content will be merged\n",
    "merge_folder = \"Gauva\"\n",
    "\n",
    "# merge_folder path = current_folder + merge_folder\n",
    "merge_folder_path = os.path.join(current_folder, merge_folder)\n",
    "\n",
    "# create merge_folder if not exists\n",
    "make_new_folder(merge_folder, current_folder)\n",
    "\n",
    "# loop through the list of folders\n",
    "for sub_dir in content_list:\n",
    "\n",
    "    # loop through the contents of the list of folders\n",
    "    for contents in content_list[sub_dir]:\n",
    "\n",
    "        # make the path of the content to move\n",
    "        path_to_content = sub_dir + \"/\" + contents\n",
    "\n",
    "        # make the path with the current folder\n",
    "        dir_to_move = os.path.join(current_folder, path_to_content)\n",
    "\n",
    "        # move the file\n",
    "        shutil.move(dir_to_move, merge_folder_path)\n",
    "        \n",
    "os.rmdir(os.path.join(current_folder, list_dir[0]))\n",
    "os.rmdir(os.path.join(current_folder, list_dir[1]))\n",
    "\n",
    "# merge Jamun folders into one single folder\n",
    "\n",
    "# list of folders to be merged\n",
    "list_dir = ['Jamun diseased (P5b)', 'Jamun healthy (P5a)']\n",
    "\n",
    "# enumerate on list_dir to get the content of all the folders and store it in a dictionary\n",
    "content_list = {}\n",
    "for index, val in enumerate(list_dir):\n",
    "    path = os.path.join(current_folder, val)\n",
    "    content_list[ list_dir[index] ] = os.listdir(path)\n",
    "\n",
    "# folder in which all the content will be merged\n",
    "merge_folder = \"Jamun\"\n",
    "\n",
    "# merge_folder path = current_folder + merge_folder\n",
    "merge_folder_path = os.path.join(current_folder, merge_folder)\n",
    "\n",
    "# create merge_folder if not exists\n",
    "make_new_folder(merge_folder, current_folder)\n",
    "\n",
    "# loop through the list of folders\n",
    "for sub_dir in content_list:\n",
    "\n",
    "    # loop through the contents of the list of folders\n",
    "    for contents in content_list[sub_dir]:\n",
    "\n",
    "        # make the path of the content to move\n",
    "        path_to_content = sub_dir + \"/\" + contents\n",
    "\n",
    "        # make the path with the current folder\n",
    "        dir_to_move = os.path.join(current_folder, path_to_content)\n",
    "\n",
    "        # move the file\n",
    "        shutil.move(dir_to_move, merge_folder_path)\n",
    "        \n",
    "os.rmdir(os.path.join(current_folder, list_dir[0]))\n",
    "os.rmdir(os.path.join(current_folder, list_dir[1]))\n",
    "\n",
    "# merge Jatropha folders into one single folder\n",
    "\n",
    "# list of folders to be merged\n",
    "list_dir = ['Jatropha diseased (P6b)', 'Jatropha healthy (P6a)']\n",
    "\n",
    "# enumerate on list_dir to get the content of all the folders and store it in a dictionary\n",
    "content_list = {}\n",
    "for index, val in enumerate(list_dir):\n",
    "    path = os.path.join(current_folder, val)\n",
    "    content_list[ list_dir[index] ] = os.listdir(path)\n",
    "\n",
    "# folder in which all the content will be merged\n",
    "merge_folder = \"Jatropha\"\n",
    "\n",
    "# merge_folder path = current_folder + merge_folder\n",
    "merge_folder_path = os.path.join(current_folder, merge_folder)\n",
    "\n",
    "# create merge_folder if not exists\n",
    "make_new_folder(merge_folder, current_folder)\n",
    "\n",
    "# loop through the list of folders\n",
    "for sub_dir in content_list:\n",
    "\n",
    "    # loop through the contents of the list of folders\n",
    "    for contents in content_list[sub_dir]:\n",
    "\n",
    "        # make the path of the content to move\n",
    "        path_to_content = sub_dir + \"/\" + contents\n",
    "\n",
    "        # make the path with the current folder\n",
    "        dir_to_move = os.path.join(current_folder, path_to_content)\n",
    "\n",
    "        # move the file\n",
    "        shutil.move(dir_to_move, merge_folder_path)\n",
    "        \n",
    "os.rmdir(os.path.join(current_folder, list_dir[0]))\n",
    "os.rmdir(os.path.join(current_folder, list_dir[1]))\n",
    "\n",
    "# merge Lemon folders into one single folder\n",
    "\n",
    "# list of folders to be merged\n",
    "list_dir = ['Lemon diseased (P10b)', 'Lemon healthy (P10a)']\n",
    "\n",
    "# enumerate on list_dir to get the content of all the folders and store it in a dictionary\n",
    "content_list = {}\n",
    "for index, val in enumerate(list_dir):\n",
    "    path = os.path.join(current_folder, val)\n",
    "    content_list[ list_dir[index] ] = os.listdir(path)\n",
    "\n",
    "# folder in which all the content will be merged\n",
    "merge_folder = \"Lemon\"\n",
    "\n",
    "# merge_folder path = current_folder + merge_folder\n",
    "merge_folder_path = os.path.join(current_folder, merge_folder)\n",
    "\n",
    "# create merge_folder if not exists\n",
    "make_new_folder(merge_folder, current_folder)\n",
    "\n",
    "# loop through the list of folders\n",
    "for sub_dir in content_list:\n",
    "\n",
    "    # loop through the contents of the list of folders\n",
    "    for contents in content_list[sub_dir]:\n",
    "\n",
    "        # make the path of the content to move\n",
    "        path_to_content = sub_dir + \"/\" + contents\n",
    "\n",
    "        # make the path with the current folder\n",
    "        dir_to_move = os.path.join(current_folder, path_to_content)\n",
    "\n",
    "        # move the file\n",
    "        shutil.move(dir_to_move, merge_folder_path)\n",
    "        \n",
    "os.rmdir(os.path.join(current_folder, list_dir[0]))\n",
    "os.rmdir(os.path.join(current_folder, list_dir[1]))\n",
    "\n",
    "# merge Mango folders into one single folder\n",
    "\n",
    "# list of folders to be merged\n",
    "list_dir = ['Mango diseased (P0b)', 'Mango healthy (P0a)']\n",
    "\n",
    "# enumerate on list_dir to get the content of all the folders and store it in a dictionary\n",
    "content_list = {}\n",
    "for index, val in enumerate(list_dir):\n",
    "    path = os.path.join(current_folder, val)\n",
    "    content_list[ list_dir[index] ] = os.listdir(path)\n",
    "\n",
    "# folder in which all the content will be merged\n",
    "merge_folder = \"Mango\"\n",
    "\n",
    "# merge_folder path = current_folder + merge_folder\n",
    "merge_folder_path = os.path.join(current_folder, merge_folder)\n",
    "\n",
    "# create merge_folder if not exists\n",
    "make_new_folder(merge_folder, current_folder)\n",
    "\n",
    "# loop through the list of folders\n",
    "for sub_dir in content_list:\n",
    "\n",
    "    # loop through the contents of the list of folders\n",
    "    for contents in content_list[sub_dir]:\n",
    "\n",
    "        # make the path of the content to move\n",
    "        path_to_content = sub_dir + \"/\" + contents\n",
    "\n",
    "        # make the path with the current folder\n",
    "        dir_to_move = os.path.join(current_folder, path_to_content)\n",
    "\n",
    "        # move the file\n",
    "        shutil.move(dir_to_move, merge_folder_path)\n",
    "        \n",
    "os.rmdir(os.path.join(current_folder, list_dir[0]))\n",
    "os.rmdir(os.path.join(current_folder, list_dir[1]))\n",
    "\n",
    "# merge Pomegranate folders into one single folder\n",
    "\n",
    "# list of folders to be merged\n",
    "list_dir = ['Pomegranate diseased (P9b)', 'Pomegranate healthy (P9a)']\n",
    "\n",
    "# enumerate on list_dir to get the content of all the folders and store it in a dictionary\n",
    "content_list = {}\n",
    "for index, val in enumerate(list_dir):\n",
    "    path = os.path.join(current_folder, val)\n",
    "    content_list[ list_dir[index] ] = os.listdir(path)\n",
    "\n",
    "# folder in which all the content will be merged\n",
    "merge_folder = \"Pomegranate\"\n",
    "\n",
    "# merge_folder path = current_folder + merge_folder\n",
    "merge_folder_path = os.path.join(current_folder, merge_folder)\n",
    "\n",
    "# create merge_folder if not exists\n",
    "make_new_folder(merge_folder, current_folder)\n",
    "\n",
    "# loop through the list of folders\n",
    "for sub_dir in content_list:\n",
    "\n",
    "    # loop through the contents of the list of folders\n",
    "    for contents in content_list[sub_dir]:\n",
    "\n",
    "        # make the path of the content to move\n",
    "        path_to_content = sub_dir + \"/\" + contents\n",
    "\n",
    "        # make the path with the current folder\n",
    "        dir_to_move = os.path.join(current_folder, path_to_content)\n",
    "\n",
    "        # move the file\n",
    "        shutil.move(dir_to_move, merge_folder_path)\n",
    "        \n",
    "os.rmdir(os.path.join(current_folder, list_dir[0]))\n",
    "os.rmdir(os.path.join(current_folder, list_dir[1]))\n",
    "\n",
    "# merge Pongamia Pinnata folders into one single folder\n",
    "\n",
    "# list of folders to be merged\n",
    "list_dir = ['Pongamia Pinnata diseased (P7b)', 'Pongamia Pinnata healthy (P7a)']\n",
    "\n",
    "# enumerate on list_dir to get the content of all the folders and store it in a dictionary\n",
    "content_list = {}\n",
    "for index, val in enumerate(list_dir):\n",
    "    path = os.path.join(current_folder, val)\n",
    "    content_list[ list_dir[index] ] = os.listdir(path)\n",
    "\n",
    "# folder in which all the content will be merged\n",
    "merge_folder = \"Pongamia Pinnata\"\n",
    "\n",
    "# merge_folder path = current_folder + merge_folder\n",
    "merge_folder_path = os.path.join(current_folder, merge_folder)\n",
    "\n",
    "# create merge_folder if not exists\n",
    "make_new_folder(merge_folder, current_folder)\n",
    "\n",
    "# loop through the list of folders\n",
    "for sub_dir in content_list:\n",
    "\n",
    "    # loop through the contents of the list of folders\n",
    "    for contents in content_list[sub_dir]:\n",
    "\n",
    "        # make the path of the content to move\n",
    "        path_to_content = sub_dir + \"/\" + contents\n",
    "\n",
    "        # make the path with the current folder\n",
    "        dir_to_move = os.path.join(current_folder, path_to_content)\n",
    "\n",
    "        # move the file\n",
    "        shutil.move(dir_to_move, merge_folder_path)\n",
    "        \n",
    "os.rmdir(os.path.join(current_folder, list_dir[0]))\n",
    "os.rmdir(os.path.join(current_folder, list_dir[1]))"
   ]
  },
  {
   "cell_type": "code",
   "execution_count": null,
   "id": "0c542afe",
   "metadata": {},
   "outputs": [],
   "source": [
    "#set categories\n",
    "directory = r\"D:\\Data\\Plants_2\\valid\"\n",
    "categories = ['Alstonia Scholaris', 'Arjun', 'Basil', \n",
    "              'Chinar', 'Gauva', 'Jamun', 'Jatropha', \n",
    "              'Lemon', 'Mango', 'Pomegranate', 'Pongamia Pinnata']\n",
    "\n",
    "#now, we need to merge the healty and diseased folders of each plant species"
   ]
  },
  {
   "cell_type": "code",
   "execution_count": null,
   "id": "e79e9331",
   "metadata": {},
   "outputs": [],
   "source": [
    "#resize images\n",
    "img_size=200\n",
    "\n",
    "data=[]\n",
    "\n",
    "for category in categories:\n",
    "    folder=os.path.join(directory, category)\n",
    "    label=categories.index(category)\n",
    "    for img in os.listdir(folder):\n",
    "        img_path=os.path.join(folder, img)\n",
    "        img_arr=cv2.imread(img_path)\n",
    "        img_arr=cv2.resize(img_arr, (img_size, img_size))\n",
    "        data.append([img_arr, label])"
   ]
  },
  {
   "cell_type": "code",
   "execution_count": null,
   "id": "8f1ca0b3",
   "metadata": {},
   "outputs": [],
   "source": [
    "#check images size\n",
    "print(len(data)) #check dataset size after dropping damaged images\n",
    "print(len(data[random.randint(0,len(data))][0])) #check if the size of a random image is 200"
   ]
  },
  {
   "cell_type": "code",
   "execution_count": null,
   "id": "9e20ffc1",
   "metadata": {
    "code_folding": []
   },
   "outputs": [],
   "source": [
    "#split features and labels in data\n",
    "X_valid = []\n",
    "y_valid = []\n",
    "\n",
    "for features, labels in data:\n",
    "    X_valid.append(features)\n",
    "    y_valid.append(labels)\n",
    "    \n",
    "    \n",
    "#transform data to np arrays\n",
    "X_valid=np.array(X_valid)\n",
    "y_valid=np.array(y_valid)\n",
    "\n",
    "#check lenght of features and labels\n",
    "print(len(X_valid))\n",
    "print(len(y_valid))\n",
    "\n",
    "#scale features for easier processing\n",
    "X_valid=X_valid/255\n",
    "\n",
    "#check shape\n",
    "X_valid.shape\n",
    "\n",
    "#one hot encoding for y_valid\n",
    "b = np.zeros((y_valid.size, y_valid.max() + 1))\n",
    "b[np.arange(y_valid.size), y_valid] = 1\n",
    "y_valid = b\n",
    "\n",
    "y_valid[random.randint(0,len(y_valid))]\n",
    "y_valid.shape"
   ]
  },
  {
   "cell_type": "code",
   "execution_count": null,
   "id": "9b69c6bf",
   "metadata": {},
   "outputs": [],
   "source": [
    "#save progress\n",
    "pickle.dump(X_valid, open(r'D:\\Data\\pkl\\X_valid.pkl', \"wb\"))\n",
    "pickle.dump(y_valid, open(r'D:\\Data\\pkl\\y_valid.pkl', \"wb\"))"
   ]
  },
  {
   "cell_type": "markdown",
   "id": "8038f98c",
   "metadata": {},
   "source": [
    "# Checkpoint - Load pickles"
   ]
  },
  {
   "cell_type": "code",
   "execution_count": 3,
   "id": "9ce9c144",
   "metadata": {
    "code_folding": [],
    "tags": []
   },
   "outputs": [],
   "source": [
    "#load training data\n",
    "X_train = pickle.load(open(r'D:\\Data\\pkl\\X_train.pkl', \"rb\"))\n",
    "y_train = pickle.load(open(r'D:\\Data\\pkl\\y_train.pkl', \"rb\"))\n",
    "\n",
    "#load test data\n",
    "X_test = pickle.load(open(r'D:\\Data\\pkl\\X_test.pkl', \"rb\"))\n",
    "y_test = pickle.load(open(r'D:\\Data\\pkl\\y_test.pkl', \"rb\"))\n",
    "\n",
    "#load validation data\n",
    "X_valid = pickle.load(open(r'D:\\Data\\pkl\\X_valid.pkl', \"rb\"))\n",
    "y_valid = pickle.load(open(r'D:\\Data\\pkl\\y_valid.pkl', \"rb\"))"
   ]
  },
  {
   "cell_type": "markdown",
   "id": "b17ae767",
   "metadata": {},
   "source": [
    "# Models and results"
   ]
  },
  {
   "cell_type": "markdown",
   "id": "2004e487",
   "metadata": {},
   "source": [
    "## Model 1"
   ]
  },
  {
   "cell_type": "code",
   "execution_count": 4,
   "id": "c0e47bcf",
   "metadata": {
    "tags": []
   },
   "outputs": [],
   "source": [
    "#def model 1\n",
    "\n",
    "def create_model():\n",
    "    model=Sequential()\n",
    "    model.add(Conv2D(16, (3,3), activation='relu', kernel_initializer='he_uniform', padding='same', input_shape=(200, 200, 3)))\n",
    "    model.add(MaxPooling2D((2,2)))\n",
    "        \n",
    "    model.add(Conv2D(32, (3,3), activation='relu', kernel_initializer='he_uniform', padding='same'))\n",
    "    model.add(MaxPooling2D((2,2)))\n",
    "        \n",
    "    model.add(Conv2D(64, (3,3), activation='relu', kernel_initializer='he_uniform', padding='same'))\n",
    "    model.add(MaxPooling2D((2,2)))\n",
    "        \n",
    "    model.add(Flatten())\n",
    "    model.add(Dense(32, activation='relu', kernel_initializer='he_uniform'))\n",
    "    model.add(Dense(16, activation='relu', kernel_initializer='he_uniform'))\n",
    "    model.add(Dense(11, activation='softmax'))\n",
    "    \n",
    "    model.compile(loss='categorical_crossentropy', optimizer=SGD(learning_rate=0.001, momentum=0.9), metrics=['accuracy'])\n",
    "    return model\n",
    "\n",
    "#create model\n",
    "model=create_model()"
   ]
  },
  {
   "cell_type": "code",
   "execution_count": 5,
   "id": "cd116df1",
   "metadata": {
    "tags": []
   },
   "outputs": [
    {
     "name": "stdout",
     "output_type": "stream",
     "text": [
      "Model: \"sequential\"\n",
      "_________________________________________________________________\n",
      " Layer (type)                Output Shape              Param #   \n",
      "=================================================================\n",
      " conv2d (Conv2D)             (None, 200, 200, 16)      448       \n",
      "                                                                 \n",
      " max_pooling2d (MaxPooling2D  (None, 100, 100, 16)     0         \n",
      " )                                                               \n",
      "                                                                 \n",
      " conv2d_1 (Conv2D)           (None, 100, 100, 32)      4640      \n",
      "                                                                 \n",
      " max_pooling2d_1 (MaxPooling  (None, 50, 50, 32)       0         \n",
      " 2D)                                                             \n",
      "                                                                 \n",
      " conv2d_2 (Conv2D)           (None, 50, 50, 64)        18496     \n",
      "                                                                 \n",
      " max_pooling2d_2 (MaxPooling  (None, 25, 25, 64)       0         \n",
      " 2D)                                                             \n",
      "                                                                 \n",
      " flatten (Flatten)           (None, 40000)             0         \n",
      "                                                                 \n",
      " dense (Dense)               (None, 32)                1280032   \n",
      "                                                                 \n",
      " dense_1 (Dense)             (None, 16)                528       \n",
      "                                                                 \n",
      " dense_2 (Dense)             (None, 11)                187       \n",
      "                                                                 \n",
      "=================================================================\n",
      "Total params: 1,304,331\n",
      "Trainable params: 1,304,331\n",
      "Non-trainable params: 0\n",
      "_________________________________________________________________\n",
      "None\n"
     ]
    }
   ],
   "source": [
    "#visualize architecture\n",
    "font = ImageFont.truetype(\"arial.ttf\", 18)\n",
    "visualkeras.layered_view(model, legend=True, font=font, \n",
    "                         to_file=r\"C:\\Users\\Administrator\\Documents\\GitHub\\Projects\\Algorithms for Massive Datasets\\Plots\\model1_1.png\")\n",
    "\n",
    "#visualize architecture\n",
    "tf.keras.utils.plot_model(model, \n",
    "                          to_file=r\"C:\\Users\\Administrator\\Documents\\GitHub\\Projects\\Algorithms for Massive Datasets\\Plots\\model1_2.png\",\n",
    "                          show_shapes=False,\n",
    "                          show_dtype=False,\n",
    "                          show_layer_names=False,\n",
    "                          rankdir=\"TB\",\n",
    "                          expand_nested=True,\n",
    "                          dpi=92,\n",
    "                          layer_range=None,\n",
    "                          show_layer_activations=True)\n",
    "\n",
    "#visualize architecture and trainable parameters\n",
    "print(model.summary())"
   ]
  },
  {
   "cell_type": "code",
   "execution_count": 6,
   "id": "fab58606",
   "metadata": {
    "tags": []
   },
   "outputs": [],
   "source": [
    "#define early stopping, callback and fit and evaluate function\n",
    "\n",
    "#set early stopping criteria\n",
    "early_stopping = EarlyStopping(monitor='val_accuracy', patience=5, verbose=0, restore_best_weights=True)\n",
    "\n",
    "#set model checkpoint callback, this will keep on saving the model as a physical file\n",
    "model_checkpoint = ModelCheckpoint('model_1', verbose=1, save_best_only=True)\n",
    "\n",
    "#define a function to fit the model\n",
    "def fit_and_evaluate(t_x, val_x, t_y, val_y, EPOCHS=50, BATCH_SIZE=32):\n",
    "    model = None\n",
    "    model = create_model()\n",
    "    results = model.fit(t_x,\n",
    "                        t_y,\n",
    "                        epochs=EPOCHS,\n",
    "                        batch_size=BATCH_SIZE,\n",
    "                        verbose=1,\n",
    "                        shuffle = True,\n",
    "                        callbacks=[early_stopping, model_checkpoint],\n",
    "                        validation_data=(val_x, val_y),)  \n",
    "    print(\"Validation Score: \", model.evaluate(val_x, val_y))\n",
    "    return results"
   ]
  },
  {
   "cell_type": "code",
   "execution_count": null,
   "id": "4325c6ec",
   "metadata": {
    "tags": []
   },
   "outputs": [
    {
     "name": "stdout",
     "output_type": "stream",
     "text": [
      "Training: \n",
      "Epoch 1/50\n",
      "134/134 [==============================] - ETA: 0s - loss: 2.3271 - accuracy: 0.1540\n",
      "Epoch 1: val_loss improved from inf to 2.37661, saving model to model_1\n"
     ]
    },
    {
     "name": "stderr",
     "output_type": "stream",
     "text": [
      "WARNING:absl:Found untraced functions such as _jit_compiled_convolution_op, _jit_compiled_convolution_op, _jit_compiled_convolution_op while saving (showing 3 of 3). These functions will not be directly callable after loading.\n"
     ]
    },
    {
     "name": "stdout",
     "output_type": "stream",
     "text": [
      "INFO:tensorflow:Assets written to: model_1\\assets\n"
     ]
    },
    {
     "name": "stderr",
     "output_type": "stream",
     "text": [
      "INFO:tensorflow:Assets written to: model_1\\assets\n"
     ]
    },
    {
     "name": "stdout",
     "output_type": "stream",
     "text": [
      "134/134 [==============================] - 31s 227ms/step - loss: 2.3271 - accuracy: 0.1540 - val_loss: 2.3766 - val_accuracy: 0.1364\n",
      "Epoch 2/50\n",
      "134/134 [==============================] - ETA: 0s - loss: 2.1891 - accuracy: 0.2461\n",
      "Epoch 2: val_loss improved from 2.37661 to 2.34895, saving model to model_1\n"
     ]
    },
    {
     "name": "stderr",
     "output_type": "stream",
     "text": [
      "WARNING:absl:Found untraced functions such as _jit_compiled_convolution_op, _jit_compiled_convolution_op, _jit_compiled_convolution_op while saving (showing 3 of 3). These functions will not be directly callable after loading.\n"
     ]
    },
    {
     "name": "stdout",
     "output_type": "stream",
     "text": [
      "INFO:tensorflow:Assets written to: model_1\\assets\n"
     ]
    },
    {
     "name": "stderr",
     "output_type": "stream",
     "text": [
      "INFO:tensorflow:Assets written to: model_1\\assets\n"
     ]
    },
    {
     "name": "stdout",
     "output_type": "stream",
     "text": [
      "134/134 [==============================] - 31s 232ms/step - loss: 2.1891 - accuracy: 0.2461 - val_loss: 2.3490 - val_accuracy: 0.1818\n",
      "Epoch 3/50\n",
      "134/134 [==============================] - ETA: 0s - loss: 2.1116 - accuracy: 0.2674\n",
      "Epoch 3: val_loss improved from 2.34895 to 2.26067, saving model to model_1\n"
     ]
    },
    {
     "name": "stderr",
     "output_type": "stream",
     "text": [
      "WARNING:absl:Found untraced functions such as _jit_compiled_convolution_op, _jit_compiled_convolution_op, _jit_compiled_convolution_op while saving (showing 3 of 3). These functions will not be directly callable after loading.\n"
     ]
    },
    {
     "name": "stdout",
     "output_type": "stream",
     "text": [
      "INFO:tensorflow:Assets written to: model_1\\assets\n"
     ]
    },
    {
     "name": "stderr",
     "output_type": "stream",
     "text": [
      "INFO:tensorflow:Assets written to: model_1\\assets\n"
     ]
    },
    {
     "name": "stdout",
     "output_type": "stream",
     "text": [
      "134/134 [==============================] - 32s 238ms/step - loss: 2.1116 - accuracy: 0.2674 - val_loss: 2.2607 - val_accuracy: 0.1545\n",
      "Epoch 4/50\n",
      "134/134 [==============================] - ETA: 0s - loss: 2.0026 - accuracy: 0.2496\n",
      "Epoch 4: val_loss improved from 2.26067 to 2.16997, saving model to model_1\n"
     ]
    },
    {
     "name": "stderr",
     "output_type": "stream",
     "text": [
      "WARNING:absl:Found untraced functions such as _jit_compiled_convolution_op, _jit_compiled_convolution_op, _jit_compiled_convolution_op while saving (showing 3 of 3). These functions will not be directly callable after loading.\n"
     ]
    },
    {
     "name": "stdout",
     "output_type": "stream",
     "text": [
      "INFO:tensorflow:Assets written to: model_1\\assets\n"
     ]
    },
    {
     "name": "stderr",
     "output_type": "stream",
     "text": [
      "INFO:tensorflow:Assets written to: model_1\\assets\n"
     ]
    },
    {
     "name": "stdout",
     "output_type": "stream",
     "text": [
      "134/134 [==============================] - 31s 229ms/step - loss: 2.0026 - accuracy: 0.2496 - val_loss: 2.1700 - val_accuracy: 0.2000\n",
      "Epoch 5/50\n",
      "134/134 [==============================] - ETA: 0s - loss: 1.9125 - accuracy: 0.2639\n",
      "Epoch 5: val_loss improved from 2.16997 to 2.07689, saving model to model_1\n"
     ]
    },
    {
     "name": "stderr",
     "output_type": "stream",
     "text": [
      "WARNING:absl:Found untraced functions such as _jit_compiled_convolution_op, _jit_compiled_convolution_op, _jit_compiled_convolution_op while saving (showing 3 of 3). These functions will not be directly callable after loading.\n"
     ]
    },
    {
     "name": "stdout",
     "output_type": "stream",
     "text": [
      "INFO:tensorflow:Assets written to: model_1\\assets\n"
     ]
    },
    {
     "name": "stderr",
     "output_type": "stream",
     "text": [
      "INFO:tensorflow:Assets written to: model_1\\assets\n"
     ]
    },
    {
     "name": "stdout",
     "output_type": "stream",
     "text": [
      "134/134 [==============================] - 31s 228ms/step - loss: 1.9125 - accuracy: 0.2639 - val_loss: 2.0769 - val_accuracy: 0.1909\n",
      "Epoch 6/50\n",
      "134/134 [==============================] - ETA: 0s - loss: 1.8185 - accuracy: 0.3086\n",
      "Epoch 6: val_loss did not improve from 2.07689\n",
      "134/134 [==============================] - 29s 217ms/step - loss: 1.8185 - accuracy: 0.3086 - val_loss: 2.1488 - val_accuracy: 0.1818\n",
      "Epoch 7/50\n",
      "134/134 [==============================] - ETA: 0s - loss: 1.8069 - accuracy: 0.3196\n",
      "Epoch 7: val_loss improved from 2.07689 to 2.03027, saving model to model_1\n"
     ]
    },
    {
     "name": "stderr",
     "output_type": "stream",
     "text": [
      "WARNING:absl:Found untraced functions such as _jit_compiled_convolution_op, _jit_compiled_convolution_op, _jit_compiled_convolution_op while saving (showing 3 of 3). These functions will not be directly callable after loading.\n"
     ]
    },
    {
     "name": "stdout",
     "output_type": "stream",
     "text": [
      "INFO:tensorflow:Assets written to: model_1\\assets\n"
     ]
    },
    {
     "name": "stderr",
     "output_type": "stream",
     "text": [
      "INFO:tensorflow:Assets written to: model_1\\assets\n"
     ]
    },
    {
     "name": "stdout",
     "output_type": "stream",
     "text": [
      "134/134 [==============================] - 32s 238ms/step - loss: 1.8069 - accuracy: 0.3196 - val_loss: 2.0303 - val_accuracy: 0.1727\n",
      "Epoch 8/50\n",
      "134/134 [==============================] - ETA: 0s - loss: 1.7393 - accuracy: 0.3341\n",
      "Epoch 8: val_loss did not improve from 2.03027\n",
      "134/134 [==============================] - 28s 207ms/step - loss: 1.7393 - accuracy: 0.3341 - val_loss: 2.0692 - val_accuracy: 0.2182\n",
      "Epoch 9/50\n",
      "134/134 [==============================] - ETA: 0s - loss: 1.6372 - accuracy: 0.3854\n",
      "Epoch 9: val_loss improved from 2.03027 to 1.92180, saving model to model_1\n"
     ]
    },
    {
     "name": "stderr",
     "output_type": "stream",
     "text": [
      "WARNING:absl:Found untraced functions such as _jit_compiled_convolution_op, _jit_compiled_convolution_op, _jit_compiled_convolution_op while saving (showing 3 of 3). These functions will not be directly callable after loading.\n"
     ]
    },
    {
     "name": "stdout",
     "output_type": "stream",
     "text": [
      "INFO:tensorflow:Assets written to: model_1\\assets\n"
     ]
    },
    {
     "name": "stderr",
     "output_type": "stream",
     "text": [
      "INFO:tensorflow:Assets written to: model_1\\assets\n"
     ]
    },
    {
     "name": "stdout",
     "output_type": "stream",
     "text": [
      "134/134 [==============================] - 30s 226ms/step - loss: 1.6372 - accuracy: 0.3854 - val_loss: 1.9218 - val_accuracy: 0.2545\n",
      "Epoch 10/50\n",
      "134/134 [==============================] - ETA: 0s - loss: 1.5457 - accuracy: 0.4420\n",
      "Epoch 10: val_loss improved from 1.92180 to 1.75403, saving model to model_1\n"
     ]
    },
    {
     "name": "stderr",
     "output_type": "stream",
     "text": [
      "WARNING:absl:Found untraced functions such as _jit_compiled_convolution_op, _jit_compiled_convolution_op, _jit_compiled_convolution_op while saving (showing 3 of 3). These functions will not be directly callable after loading.\n"
     ]
    },
    {
     "name": "stdout",
     "output_type": "stream",
     "text": [
      "INFO:tensorflow:Assets written to: model_1\\assets\n"
     ]
    },
    {
     "name": "stderr",
     "output_type": "stream",
     "text": [
      "INFO:tensorflow:Assets written to: model_1\\assets\n"
     ]
    },
    {
     "name": "stdout",
     "output_type": "stream",
     "text": [
      "134/134 [==============================] - 30s 226ms/step - loss: 1.5457 - accuracy: 0.4420 - val_loss: 1.7540 - val_accuracy: 0.3818\n",
      "Epoch 11/50\n",
      "134/134 [==============================] - ETA: 0s - loss: 1.3191 - accuracy: 0.5307\n",
      "Epoch 11: val_loss improved from 1.75403 to 1.45461, saving model to model_1\n"
     ]
    },
    {
     "name": "stderr",
     "output_type": "stream",
     "text": [
      "WARNING:absl:Found untraced functions such as _jit_compiled_convolution_op, _jit_compiled_convolution_op, _jit_compiled_convolution_op while saving (showing 3 of 3). These functions will not be directly callable after loading.\n"
     ]
    },
    {
     "name": "stdout",
     "output_type": "stream",
     "text": [
      "INFO:tensorflow:Assets written to: model_1\\assets\n"
     ]
    },
    {
     "name": "stderr",
     "output_type": "stream",
     "text": [
      "INFO:tensorflow:Assets written to: model_1\\assets\n"
     ]
    },
    {
     "name": "stdout",
     "output_type": "stream",
     "text": [
      "134/134 [==============================] - 31s 233ms/step - loss: 1.3191 - accuracy: 0.5307 - val_loss: 1.4546 - val_accuracy: 0.4545\n",
      "Epoch 12/50\n",
      "134/134 [==============================] - ETA: 0s - loss: 1.0976 - accuracy: 0.6135\n",
      "Epoch 12: val_loss improved from 1.45461 to 1.27147, saving model to model_1\n"
     ]
    },
    {
     "name": "stderr",
     "output_type": "stream",
     "text": [
      "WARNING:absl:Found untraced functions such as _jit_compiled_convolution_op, _jit_compiled_convolution_op, _jit_compiled_convolution_op while saving (showing 3 of 3). These functions will not be directly callable after loading.\n"
     ]
    },
    {
     "name": "stdout",
     "output_type": "stream",
     "text": [
      "INFO:tensorflow:Assets written to: model_1\\assets\n"
     ]
    },
    {
     "name": "stderr",
     "output_type": "stream",
     "text": [
      "INFO:tensorflow:Assets written to: model_1\\assets\n"
     ]
    },
    {
     "name": "stdout",
     "output_type": "stream",
     "text": [
      "134/134 [==============================] - 31s 230ms/step - loss: 1.0976 - accuracy: 0.6135 - val_loss: 1.2715 - val_accuracy: 0.6091\n",
      "Epoch 13/50\n",
      "134/134 [==============================] - ETA: 0s - loss: 0.8930 - accuracy: 0.7000\n",
      "Epoch 13: val_loss did not improve from 1.27147\n",
      "134/134 [==============================] - 28s 212ms/step - loss: 0.8930 - accuracy: 0.7000 - val_loss: 1.3045 - val_accuracy: 0.5727\n",
      "Epoch 14/50\n",
      "134/134 [==============================] - ETA: 0s - loss: 0.7843 - accuracy: 0.7415\n",
      "Epoch 14: val_loss improved from 1.27147 to 1.08143, saving model to model_1\n"
     ]
    },
    {
     "name": "stderr",
     "output_type": "stream",
     "text": [
      "WARNING:absl:Found untraced functions such as _jit_compiled_convolution_op, _jit_compiled_convolution_op, _jit_compiled_convolution_op while saving (showing 3 of 3). These functions will not be directly callable after loading.\n"
     ]
    },
    {
     "name": "stdout",
     "output_type": "stream",
     "text": [
      "INFO:tensorflow:Assets written to: model_1\\assets\n"
     ]
    },
    {
     "name": "stderr",
     "output_type": "stream",
     "text": [
      "INFO:tensorflow:Assets written to: model_1\\assets\n"
     ]
    },
    {
     "name": "stdout",
     "output_type": "stream",
     "text": [
      "134/134 [==============================] - 33s 250ms/step - loss: 0.7843 - accuracy: 0.7415 - val_loss: 1.0814 - val_accuracy: 0.6455\n",
      "Epoch 15/50\n",
      "134/134 [==============================] - ETA: 0s - loss: 0.6673 - accuracy: 0.7869\n",
      "Epoch 15: val_loss improved from 1.08143 to 1.00494, saving model to model_1\n"
     ]
    },
    {
     "name": "stderr",
     "output_type": "stream",
     "text": [
      "WARNING:absl:Found untraced functions such as _jit_compiled_convolution_op, _jit_compiled_convolution_op, _jit_compiled_convolution_op while saving (showing 3 of 3). These functions will not be directly callable after loading.\n"
     ]
    },
    {
     "name": "stdout",
     "output_type": "stream",
     "text": [
      "INFO:tensorflow:Assets written to: model_1\\assets\n"
     ]
    },
    {
     "name": "stderr",
     "output_type": "stream",
     "text": [
      "INFO:tensorflow:Assets written to: model_1\\assets\n"
     ]
    },
    {
     "name": "stdout",
     "output_type": "stream",
     "text": [
      "134/134 [==============================] - 31s 231ms/step - loss: 0.6673 - accuracy: 0.7869 - val_loss: 1.0049 - val_accuracy: 0.6545\n",
      "Epoch 16/50\n",
      "134/134 [==============================] - ETA: 0s - loss: 0.6281 - accuracy: 0.8000\n",
      "Epoch 16: val_loss improved from 1.00494 to 0.96236, saving model to model_1\n"
     ]
    },
    {
     "name": "stderr",
     "output_type": "stream",
     "text": [
      "WARNING:absl:Found untraced functions such as _jit_compiled_convolution_op, _jit_compiled_convolution_op, _jit_compiled_convolution_op while saving (showing 3 of 3). These functions will not be directly callable after loading.\n"
     ]
    },
    {
     "name": "stdout",
     "output_type": "stream",
     "text": [
      "INFO:tensorflow:Assets written to: model_1\\assets\n"
     ]
    },
    {
     "name": "stderr",
     "output_type": "stream",
     "text": [
      "INFO:tensorflow:Assets written to: model_1\\assets\n"
     ]
    },
    {
     "name": "stdout",
     "output_type": "stream",
     "text": [
      "134/134 [==============================] - 31s 232ms/step - loss: 0.6281 - accuracy: 0.8000 - val_loss: 0.9624 - val_accuracy: 0.6727\n",
      "Epoch 17/50\n",
      "134/134 [==============================] - ETA: 0s - loss: 0.5551 - accuracy: 0.8238\n",
      "Epoch 17: val_loss did not improve from 0.96236\n",
      "134/134 [==============================] - 27s 204ms/step - loss: 0.5551 - accuracy: 0.8238 - val_loss: 1.1051 - val_accuracy: 0.6182\n",
      "Epoch 18/50\n",
      "134/134 [==============================] - ETA: 0s - loss: 0.5006 - accuracy: 0.8451\n",
      "Epoch 18: val_loss did not improve from 0.96236\n",
      "134/134 [==============================] - 28s 211ms/step - loss: 0.5006 - accuracy: 0.8451 - val_loss: 0.9891 - val_accuracy: 0.7182\n",
      "Epoch 19/50\n",
      "134/134 [==============================] - ETA: 0s - loss: 0.4349 - accuracy: 0.8678\n",
      "Epoch 19: val_loss did not improve from 0.96236\n",
      "134/134 [==============================] - 29s 215ms/step - loss: 0.4349 - accuracy: 0.8678 - val_loss: 1.0741 - val_accuracy: 0.6818\n",
      "Epoch 20/50\n",
      " 15/134 [==>...........................] - ETA: 26s - loss: 0.3042 - accuracy: 0.9125"
     ]
    }
   ],
   "source": [
    "#save the model history in a list after fitting so that we can plot later\n",
    "model_history = [] \n",
    "epochs=50\n",
    "batch_size=32\n",
    "\n",
    "print(\"Training: \")\n",
    "model_history.append(fit_and_evaluate(X_train, X_valid, y_train, y_valid, epochs, batch_size))\n",
    "print(\"=======\"*12, end=\"\\n\\n\\n\")"
   ]
  },
  {
   "cell_type": "code",
   "execution_count": null,
   "id": "155a3403",
   "metadata": {
    "tags": []
   },
   "outputs": [],
   "source": [
    "# learning curve\n",
    "history_dict = model_history[0].history\n",
    "\n",
    "# accuracy\n",
    "acc = history_dict['accuracy']\n",
    "val_acc = history_dict['val_accuracy']\n",
    "\n",
    "# loss\n",
    "loss = history_dict['loss']\n",
    "val_loss = history_dict['val_loss']\n",
    "\n",
    "# range of X (no. of epochs)\n",
    "epochs = range(1, len(acc) + 1)\n",
    "\n",
    "# plot\n",
    "plt.plot(epochs, acc, label='Training accuracy')\n",
    "plt.plot(epochs, val_acc, label='Validation accuracy')\n",
    "plt.title('Training and validation accuracy, Model 1')\n",
    "plt.xlabel('Epochs')\n",
    "plt.ylabel('Accuracy')\n",
    "plt.legend()\n",
    "plt.savefig(r\"C:\\Users\\Administrator\\Documents\\GitHub\\Projects\\Algorithms for Massive Datasets\\Plots\\model1_3.jpeg\")\n",
    "\n",
    "plt.show()"
   ]
  },
  {
   "cell_type": "code",
   "execution_count": null,
   "id": "1d7b1aca",
   "metadata": {
    "tags": []
   },
   "outputs": [],
   "source": [
    "# accuracy\n",
    "acc = history_dict['accuracy']\n",
    "val_acc = history_dict['val_accuracy']\n",
    "\n",
    "# loss\n",
    "loss = history_dict['loss']\n",
    "val_loss = history_dict['val_loss']\n",
    "\n",
    "# range of X (no. of epochs)\n",
    "epochs = range(1, len(acc) + 1)\n",
    "\n",
    "# plot\n",
    "plt.plot(epochs, loss, label='Training loss')\n",
    "plt.plot(epochs, val_loss, label='Validation loss')\n",
    "plt.title('Training and validation loss, Model 1')\n",
    "plt.xlabel('Epochs')\n",
    "plt.ylabel('Loss')\n",
    "plt.legend()\n",
    "plt.savefig(r\"C:\\Users\\Administrator\\Documents\\GitHub\\Projects\\Algorithms for Massive Datasets\\Plots\\model1_4.jpeg\")\n",
    "\n",
    "plt.show()"
   ]
  },
  {
   "cell_type": "code",
   "execution_count": null,
   "id": "68dc7622",
   "metadata": {
    "tags": []
   },
   "outputs": [],
   "source": [
    "#average training loss\n",
    "model_1_train_loss=[]\n",
    "model_1_train_loss.append(np.mean(model_history[0].history['loss']))\n",
    "print(np.mean(model_1_train_loss)) #0.86765"
   ]
  },
  {
   "cell_type": "code",
   "execution_count": null,
   "id": "4631976a",
   "metadata": {
    "tags": []
   },
   "outputs": [],
   "source": [
    "#average validation loss\n",
    "model_1_val_loss=[]\n",
    "model_1_val_loss.append(np.mean(model_history[0].history['val_loss']))\n",
    "print(np.mean(model_1_val_loss)) #1.38"
   ]
  },
  {
   "cell_type": "code",
   "execution_count": null,
   "id": "53cf0161",
   "metadata": {
    "tags": []
   },
   "outputs": [],
   "source": [
    "#Test model 1\n",
    "model = load_model('model_1')\n",
    "\n",
    "print(\"Evaluate on test data\")\n",
    "results = model.evaluate(X_test, y_test)\n",
    "print(\"test loss, test acc:\", results)\n",
    "#0.6004, 0.8364"
   ]
  },
  {
   "cell_type": "code",
   "execution_count": null,
   "id": "095bf28f",
   "metadata": {
    "tags": []
   },
   "outputs": [],
   "source": [
    "#random prediction - test set\n",
    "\n",
    "preds = model.predict(X_test)\n",
    "print(preds[109])\n",
    "print(np.sum(preds[0]))"
   ]
  },
  {
   "cell_type": "code",
   "execution_count": null,
   "id": "959ab110",
   "metadata": {
    "tags": []
   },
   "outputs": [],
   "source": [
    "#confusion matrix - test set\n",
    "\n",
    "matrix = confusion_matrix(y_test.argmax(axis=1), preds.argmax(axis=1))\n",
    "matrix"
   ]
  },
  {
   "cell_type": "code",
   "execution_count": null,
   "id": "85ce1982",
   "metadata": {
    "tags": []
   },
   "outputs": [],
   "source": [
    "#precision and recall- test set\n",
    "report_model1 = classification_report(y_test.argmax(axis=1), preds.argmax(axis=1), target_names=categories, output_dict=True)\n",
    "report_model1 = pd.DataFrame(report_model1).transpose().round(2)\n",
    "print(report_model1)"
   ]
  },
  {
   "cell_type": "code",
   "execution_count": 127,
   "id": "d5a3eb9d-91d2-4f91-be6c-7408000e56a5",
   "metadata": {},
   "outputs": [
    {
     "name": "stdout",
     "output_type": "stream",
     "text": [
      "\\begin{table}[H]\n",
      "\\centering\n",
      "\\caption{Classification Report, Model 1}\n",
      "\\label{report_model1}\n",
      "\\begin{tabular}{lrrrr}\n",
      "\\toprule\n",
      "{} &  precision &  recall &  f1-score &  support \\\\\n",
      "\\midrule\n",
      "\\textbf{Alstonia Scholaris} &       0.80 &    0.80 &      0.80 &    10.00 \\\\\n",
      "\\textbf{Arjun             } &       0.83 &    1.00 &      0.91 &    10.00 \\\\\n",
      "\\textbf{Basil             } &       0.90 &    0.90 &      0.90 &    10.00 \\\\\n",
      "\\textbf{Chinar            } &       1.00 &    0.80 &      0.89 &    10.00 \\\\\n",
      "\\textbf{Gauva             } &       0.89 &    0.80 &      0.84 &    10.00 \\\\\n",
      "\\textbf{Jamun             } &       0.71 &    1.00 &      0.83 &    10.00 \\\\\n",
      "\\textbf{Jatropha          } &       0.90 &    0.90 &      0.90 &    10.00 \\\\\n",
      "\\textbf{Lemon             } &       1.00 &    0.60 &      0.75 &    10.00 \\\\\n",
      "\\textbf{Mango             } &       0.91 &    1.00 &      0.95 &    10.00 \\\\\n",
      "\\textbf{Pomegranate       } &       1.00 &    0.80 &      0.89 &    10.00 \\\\\n",
      "\\textbf{Pongamia Pinnata  } &       0.50 &    0.60 &      0.55 &    10.00 \\\\\n",
      "\\textbf{accuracy          } &       0.84 &    0.84 &      0.84 &     0.84 \\\\\n",
      "\\textbf{macro avg         } &       0.86 &    0.84 &      0.84 &   110.00 \\\\\n",
      "\\textbf{weighted avg      } &       0.86 &    0.84 &      0.84 &   110.00 \\\\\n",
      "\\bottomrule\n",
      "\\end{tabular}\n",
      "\\end{table}\n",
      "\n"
     ]
    },
    {
     "name": "stderr",
     "output_type": "stream",
     "text": [
      "C:\\Users\\Administrator\\AppData\\Local\\Temp\\ipykernel_16360\\1431214015.py:1: FutureWarning: In future versions `DataFrame.to_latex` is expected to utilise the base implementation of `Styler.to_latex` for formatting and rendering. The arguments signature may therefore change. It is recommended instead to use `DataFrame.style.to_latex` which also contains additional functionality.\n",
      "  print(report_model1.to_latex(position='H', bold_rows=True, float_format=\"{:.2f}\".format, label='report_model1', caption='Classification Report, Model 1'))\n"
     ]
    }
   ],
   "source": [
    "print(report_model1.to_latex(position='H', bold_rows=True, float_format=\"{:.2f}\".format, label='report_model1', caption='Classification Report, Model 1'))"
   ]
  },
  {
   "cell_type": "markdown",
   "id": "cad31463",
   "metadata": {},
   "source": [
    "## Model 2"
   ]
  },
  {
   "cell_type": "markdown",
   "id": "77c53e8d",
   "metadata": {},
   "source": [
    "Main changes with respect to Model 1: kernel initializer is now glorot normal instead of he uniform, padding is valid instead of same and a Dropout(0.2) layer is added after each max pooling layer"
   ]
  },
  {
   "cell_type": "code",
   "execution_count": 17,
   "id": "8b70b5bd",
   "metadata": {
    "tags": []
   },
   "outputs": [],
   "source": [
    "#def model 2\n",
    "\n",
    "def create_model():\n",
    "    model=Sequential()\n",
    "    model.add(Conv2D(16, (3,3), activation='relu', kernel_initializer='glorot_normal', padding='valid', input_shape=(200, 200, 3)))\n",
    "    model.add(MaxPooling2D((2,2)))\n",
    "    model.add(Dropout(0.2))\n",
    "        \n",
    "    model.add(Conv2D(32, (3,3), activation='relu', kernel_initializer='glorot_normal', padding='valid'))\n",
    "    model.add(MaxPooling2D((2,2)))\n",
    "    model.add(Dropout(0.2))\n",
    "       \n",
    "    model.add(Conv2D(64, (3,3), activation='relu', kernel_initializer='glorot_normal', padding='valid'))\n",
    "    model.add(MaxPooling2D((2,2)))\n",
    "    model.add(Dropout(0.2))\n",
    "        \n",
    "    model.add(Flatten())\n",
    "    model.add(Dense(32, activation='relu', kernel_initializer='glorot_normal'))\n",
    "    model.add(Dense(16, activation='relu', kernel_initializer='glorot_normal'))\n",
    "    model.add(Dense(11, activation='softmax'))\n",
    "    \n",
    "    model.compile(loss='categorical_crossentropy', optimizer=SGD(learning_rate=0.001, momentum=0.9), metrics=['accuracy'])\n",
    "    return model\n",
    "\n",
    "#create model\n",
    "model=create_model()"
   ]
  },
  {
   "cell_type": "code",
   "execution_count": 18,
   "id": "53dfa89b",
   "metadata": {
    "tags": []
   },
   "outputs": [
    {
     "name": "stdout",
     "output_type": "stream",
     "text": [
      "Model: \"sequential_2\"\n",
      "_________________________________________________________________\n",
      " Layer (type)                Output Shape              Param #   \n",
      "=================================================================\n",
      " conv2d_6 (Conv2D)           (None, 198, 198, 16)      448       \n",
      "                                                                 \n",
      " max_pooling2d_6 (MaxPooling  (None, 99, 99, 16)       0         \n",
      " 2D)                                                             \n",
      "                                                                 \n",
      " dropout (Dropout)           (None, 99, 99, 16)        0         \n",
      "                                                                 \n",
      " conv2d_7 (Conv2D)           (None, 97, 97, 32)        4640      \n",
      "                                                                 \n",
      " max_pooling2d_7 (MaxPooling  (None, 48, 48, 32)       0         \n",
      " 2D)                                                             \n",
      "                                                                 \n",
      " dropout_1 (Dropout)         (None, 48, 48, 32)        0         \n",
      "                                                                 \n",
      " conv2d_8 (Conv2D)           (None, 46, 46, 64)        18496     \n",
      "                                                                 \n",
      " max_pooling2d_8 (MaxPooling  (None, 23, 23, 64)       0         \n",
      " 2D)                                                             \n",
      "                                                                 \n",
      " dropout_2 (Dropout)         (None, 23, 23, 64)        0         \n",
      "                                                                 \n",
      " flatten_2 (Flatten)         (None, 33856)             0         \n",
      "                                                                 \n",
      " dense_6 (Dense)             (None, 32)                1083424   \n",
      "                                                                 \n",
      " dense_7 (Dense)             (None, 16)                528       \n",
      "                                                                 \n",
      " dense_8 (Dense)             (None, 11)                187       \n",
      "                                                                 \n",
      "=================================================================\n",
      "Total params: 1,107,723\n",
      "Trainable params: 1,107,723\n",
      "Non-trainable params: 0\n",
      "_________________________________________________________________\n",
      "None\n"
     ]
    }
   ],
   "source": [
    "#visualize architecture\n",
    "font = ImageFont.truetype(\"arial.ttf\", 18)\n",
    "visualkeras.layered_view(model, legend=True, font=font, \n",
    "                         to_file=r\"C:\\Users\\Administrator\\Documents\\GitHub\\Projects\\Algorithms for Massive Datasets\\Plots\\model2_1.png\")\n",
    "\n",
    "#visualize architecture\n",
    "tf.keras.utils.plot_model(model, \n",
    "                          to_file=r\"C:\\Users\\Administrator\\Documents\\GitHub\\Projects\\Algorithms for Massive Datasets\\Plots\\model2_2.png\",\n",
    "                          show_shapes=False,\n",
    "                          show_dtype=False,\n",
    "                          show_layer_names=False,\n",
    "                          rankdir=\"TB\",\n",
    "                          expand_nested=True,\n",
    "                          dpi=92,\n",
    "                          layer_range=None,\n",
    "                          show_layer_activations=True)\n",
    "\n",
    "#visualize architecture and trainable parameters\n",
    "print(model.summary())"
   ]
  },
  {
   "cell_type": "code",
   "execution_count": 19,
   "id": "81f85638",
   "metadata": {
    "tags": []
   },
   "outputs": [],
   "source": [
    "#define early stopping, callback and fit and evaluate function\n",
    "\n",
    "#set early stopping criteria\n",
    "early_stopping = EarlyStopping(monitor='val_accuracy', patience=5, verbose=0, restore_best_weights=True)\n",
    "\n",
    "#set model checkpoint callback, this will keep on saving the model as a physical file\n",
    "model_checkpoint = ModelCheckpoint('model_2', verbose=1, save_best_only=True)\n",
    "\n",
    "#define a function to fit the model\n",
    "def fit_and_evaluate(t_x, val_x, t_y, val_y, EPOCHS=50, BATCH_SIZE=32):\n",
    "    model = None\n",
    "    model = create_model()\n",
    "    results = model.fit(t_x,\n",
    "                        t_y,\n",
    "                        epochs=EPOCHS,\n",
    "                        batch_size=BATCH_SIZE,\n",
    "                        verbose=1,\n",
    "                        shuffle = True,\n",
    "                        callbacks=[early_stopping, model_checkpoint],\n",
    "                        validation_data=(val_x, val_y),)  \n",
    "    print(\"Validation Score: \", model.evaluate(val_x, val_y))\n",
    "    return results"
   ]
  },
  {
   "cell_type": "code",
   "execution_count": 20,
   "id": "7c7cfb8f",
   "metadata": {
    "tags": []
   },
   "outputs": [
    {
     "name": "stdout",
     "output_type": "stream",
     "text": [
      "Training: \n",
      "Epoch 1/50\n",
      "134/134 [==============================] - ETA: 0s - loss: 2.3505 - accuracy: 0.2122\n",
      "Epoch 1: val_loss improved from inf to 2.33527, saving model to model_2\n"
     ]
    },
    {
     "name": "stderr",
     "output_type": "stream",
     "text": [
      "WARNING:absl:Found untraced functions such as _jit_compiled_convolution_op, _jit_compiled_convolution_op, _jit_compiled_convolution_op while saving (showing 3 of 3). These functions will not be directly callable after loading.\n"
     ]
    },
    {
     "name": "stdout",
     "output_type": "stream",
     "text": [
      "INFO:tensorflow:Assets written to: model_2\\assets\n"
     ]
    },
    {
     "name": "stderr",
     "output_type": "stream",
     "text": [
      "INFO:tensorflow:Assets written to: model_2\\assets\n"
     ]
    },
    {
     "name": "stdout",
     "output_type": "stream",
     "text": [
      "134/134 [==============================] - 39s 286ms/step - loss: 2.3505 - accuracy: 0.2122 - val_loss: 2.3353 - val_accuracy: 0.1818\n",
      "Epoch 2/50\n",
      "134/134 [==============================] - ETA: 0s - loss: 2.1137 - accuracy: 0.2606\n",
      "Epoch 2: val_loss improved from 2.33527 to 2.11941, saving model to model_2\n"
     ]
    },
    {
     "name": "stderr",
     "output_type": "stream",
     "text": [
      "WARNING:absl:Found untraced functions such as _jit_compiled_convolution_op, _jit_compiled_convolution_op, _jit_compiled_convolution_op while saving (showing 3 of 3). These functions will not be directly callable after loading.\n"
     ]
    },
    {
     "name": "stdout",
     "output_type": "stream",
     "text": [
      "INFO:tensorflow:Assets written to: model_2\\assets\n"
     ]
    },
    {
     "name": "stderr",
     "output_type": "stream",
     "text": [
      "INFO:tensorflow:Assets written to: model_2\\assets\n"
     ]
    },
    {
     "name": "stdout",
     "output_type": "stream",
     "text": [
      "134/134 [==============================] - 35s 260ms/step - loss: 2.1137 - accuracy: 0.2606 - val_loss: 2.1194 - val_accuracy: 0.1818\n",
      "Epoch 3/50\n",
      "134/134 [==============================] - ETA: 0s - loss: 1.8951 - accuracy: 0.3215\n",
      "Epoch 3: val_loss improved from 2.11941 to 1.97713, saving model to model_2\n"
     ]
    },
    {
     "name": "stderr",
     "output_type": "stream",
     "text": [
      "WARNING:absl:Found untraced functions such as _jit_compiled_convolution_op, _jit_compiled_convolution_op, _jit_compiled_convolution_op while saving (showing 3 of 3). These functions will not be directly callable after loading.\n"
     ]
    },
    {
     "name": "stdout",
     "output_type": "stream",
     "text": [
      "INFO:tensorflow:Assets written to: model_2\\assets\n"
     ]
    },
    {
     "name": "stderr",
     "output_type": "stream",
     "text": [
      "INFO:tensorflow:Assets written to: model_2\\assets\n"
     ]
    },
    {
     "name": "stdout",
     "output_type": "stream",
     "text": [
      "134/134 [==============================] - 40s 296ms/step - loss: 1.8951 - accuracy: 0.3215 - val_loss: 1.9771 - val_accuracy: 0.2273\n",
      "Epoch 4/50\n",
      "134/134 [==============================] - ETA: 0s - loss: 1.6389 - accuracy: 0.4546\n",
      "Epoch 4: val_loss improved from 1.97713 to 1.71350, saving model to model_2\n"
     ]
    },
    {
     "name": "stderr",
     "output_type": "stream",
     "text": [
      "WARNING:absl:Found untraced functions such as _jit_compiled_convolution_op, _jit_compiled_convolution_op, _jit_compiled_convolution_op while saving (showing 3 of 3). These functions will not be directly callable after loading.\n"
     ]
    },
    {
     "name": "stdout",
     "output_type": "stream",
     "text": [
      "INFO:tensorflow:Assets written to: model_2\\assets\n"
     ]
    },
    {
     "name": "stderr",
     "output_type": "stream",
     "text": [
      "INFO:tensorflow:Assets written to: model_2\\assets\n"
     ]
    },
    {
     "name": "stdout",
     "output_type": "stream",
     "text": [
      "134/134 [==============================] - 39s 292ms/step - loss: 1.6389 - accuracy: 0.4546 - val_loss: 1.7135 - val_accuracy: 0.3636\n",
      "Epoch 5/50\n",
      "134/134 [==============================] - ETA: 0s - loss: 1.2917 - accuracy: 0.5653\n",
      "Epoch 5: val_loss improved from 1.71350 to 1.44915, saving model to model_2\n"
     ]
    },
    {
     "name": "stderr",
     "output_type": "stream",
     "text": [
      "WARNING:absl:Found untraced functions such as _jit_compiled_convolution_op, _jit_compiled_convolution_op, _jit_compiled_convolution_op while saving (showing 3 of 3). These functions will not be directly callable after loading.\n"
     ]
    },
    {
     "name": "stdout",
     "output_type": "stream",
     "text": [
      "INFO:tensorflow:Assets written to: model_2\\assets\n"
     ]
    },
    {
     "name": "stderr",
     "output_type": "stream",
     "text": [
      "INFO:tensorflow:Assets written to: model_2\\assets\n"
     ]
    },
    {
     "name": "stdout",
     "output_type": "stream",
     "text": [
      "134/134 [==============================] - 37s 275ms/step - loss: 1.2917 - accuracy: 0.5653 - val_loss: 1.4492 - val_accuracy: 0.4636\n",
      "Epoch 6/50\n",
      "134/134 [==============================] - ETA: 0s - loss: 1.1027 - accuracy: 0.6203\n",
      "Epoch 6: val_loss improved from 1.44915 to 1.41859, saving model to model_2\n"
     ]
    },
    {
     "name": "stderr",
     "output_type": "stream",
     "text": [
      "WARNING:absl:Found untraced functions such as _jit_compiled_convolution_op, _jit_compiled_convolution_op, _jit_compiled_convolution_op while saving (showing 3 of 3). These functions will not be directly callable after loading.\n"
     ]
    },
    {
     "name": "stdout",
     "output_type": "stream",
     "text": [
      "INFO:tensorflow:Assets written to: model_2\\assets\n"
     ]
    },
    {
     "name": "stderr",
     "output_type": "stream",
     "text": [
      "INFO:tensorflow:Assets written to: model_2\\assets\n"
     ]
    },
    {
     "name": "stdout",
     "output_type": "stream",
     "text": [
      "134/134 [==============================] - 34s 256ms/step - loss: 1.1027 - accuracy: 0.6203 - val_loss: 1.4186 - val_accuracy: 0.4364\n",
      "Epoch 7/50\n",
      "134/134 [==============================] - ETA: 0s - loss: 0.9779 - accuracy: 0.6647\n",
      "Epoch 7: val_loss improved from 1.41859 to 1.10452, saving model to model_2\n"
     ]
    },
    {
     "name": "stderr",
     "output_type": "stream",
     "text": [
      "WARNING:absl:Found untraced functions such as _jit_compiled_convolution_op, _jit_compiled_convolution_op, _jit_compiled_convolution_op while saving (showing 3 of 3). These functions will not be directly callable after loading.\n"
     ]
    },
    {
     "name": "stdout",
     "output_type": "stream",
     "text": [
      "INFO:tensorflow:Assets written to: model_2\\assets\n"
     ]
    },
    {
     "name": "stderr",
     "output_type": "stream",
     "text": [
      "INFO:tensorflow:Assets written to: model_2\\assets\n"
     ]
    },
    {
     "name": "stdout",
     "output_type": "stream",
     "text": [
      "134/134 [==============================] - 35s 262ms/step - loss: 0.9779 - accuracy: 0.6647 - val_loss: 1.1045 - val_accuracy: 0.5909\n",
      "Epoch 8/50\n",
      "134/134 [==============================] - ETA: 0s - loss: 0.9106 - accuracy: 0.6862\n",
      "Epoch 8: val_loss improved from 1.10452 to 1.04955, saving model to model_2\n"
     ]
    },
    {
     "name": "stderr",
     "output_type": "stream",
     "text": [
      "WARNING:absl:Found untraced functions such as _jit_compiled_convolution_op, _jit_compiled_convolution_op, _jit_compiled_convolution_op while saving (showing 3 of 3). These functions will not be directly callable after loading.\n"
     ]
    },
    {
     "name": "stdout",
     "output_type": "stream",
     "text": [
      "INFO:tensorflow:Assets written to: model_2\\assets\n"
     ]
    },
    {
     "name": "stderr",
     "output_type": "stream",
     "text": [
      "INFO:tensorflow:Assets written to: model_2\\assets\n"
     ]
    },
    {
     "name": "stdout",
     "output_type": "stream",
     "text": [
      "134/134 [==============================] - 35s 264ms/step - loss: 0.9106 - accuracy: 0.6862 - val_loss: 1.0495 - val_accuracy: 0.6636\n",
      "Epoch 9/50\n",
      "134/134 [==============================] - ETA: 0s - loss: 0.8660 - accuracy: 0.7106\n",
      "Epoch 9: val_loss did not improve from 1.04955\n",
      "134/134 [==============================] - 34s 254ms/step - loss: 0.8660 - accuracy: 0.7106 - val_loss: 1.1108 - val_accuracy: 0.5636\n",
      "Epoch 10/50\n",
      "134/134 [==============================] - ETA: 0s - loss: 0.8042 - accuracy: 0.7270\n",
      "Epoch 10: val_loss did not improve from 1.04955\n",
      "134/134 [==============================] - 34s 250ms/step - loss: 0.8042 - accuracy: 0.7270 - val_loss: 1.0652 - val_accuracy: 0.5909\n",
      "Epoch 11/50\n",
      "134/134 [==============================] - ETA: 0s - loss: 0.7613 - accuracy: 0.7429\n",
      "Epoch 11: val_loss did not improve from 1.04955\n",
      "134/134 [==============================] - 33s 249ms/step - loss: 0.7613 - accuracy: 0.7429 - val_loss: 1.1044 - val_accuracy: 0.6091\n",
      "Epoch 12/50\n",
      "134/134 [==============================] - ETA: 0s - loss: 0.7344 - accuracy: 0.7494\n",
      "Epoch 12: val_loss improved from 1.04955 to 0.95299, saving model to model_2\n"
     ]
    },
    {
     "name": "stderr",
     "output_type": "stream",
     "text": [
      "WARNING:absl:Found untraced functions such as _jit_compiled_convolution_op, _jit_compiled_convolution_op, _jit_compiled_convolution_op while saving (showing 3 of 3). These functions will not be directly callable after loading.\n"
     ]
    },
    {
     "name": "stdout",
     "output_type": "stream",
     "text": [
      "INFO:tensorflow:Assets written to: model_2\\assets\n"
     ]
    },
    {
     "name": "stderr",
     "output_type": "stream",
     "text": [
      "INFO:tensorflow:Assets written to: model_2\\assets\n"
     ]
    },
    {
     "name": "stdout",
     "output_type": "stream",
     "text": [
      "134/134 [==============================] - 37s 273ms/step - loss: 0.7344 - accuracy: 0.7494 - val_loss: 0.9530 - val_accuracy: 0.6636\n",
      "Epoch 13/50\n",
      "134/134 [==============================] - ETA: 0s - loss: 0.7085 - accuracy: 0.7511\n",
      "Epoch 13: val_loss did not improve from 0.95299\n",
      "134/134 [==============================] - 32s 240ms/step - loss: 0.7085 - accuracy: 0.7511 - val_loss: 0.9968 - val_accuracy: 0.6455\n",
      "4/4 [==============================] - 0s 57ms/step - loss: 1.0495 - accuracy: 0.6636\n",
      "Validation Score:  [1.0495487451553345, 0.6636363863945007]\n",
      "====================================================================================\n",
      "\n",
      "\n"
     ]
    }
   ],
   "source": [
    "#save the model history in a list after fitting so that we can plot later\n",
    "model_history = [] \n",
    "epochs=50\n",
    "batch_size=32\n",
    "\n",
    "print(\"Training: \")\n",
    "model_history.append(fit_and_evaluate(X_train, X_valid, y_train, y_valid, epochs, batch_size))\n",
    "print(\"=======\"*12, end=\"\\n\\n\\n\")"
   ]
  },
  {
   "cell_type": "code",
   "execution_count": 21,
   "id": "b7b4c027",
   "metadata": {
    "tags": []
   },
   "outputs": [
    {
     "data": {
      "image/png": "[encoded data removed]",
      "text/plain": [
       "<Figure size 640x480 with 1 Axes>"
      ]
     },
     "metadata": {},
     "output_type": "display_data"
    }
   ],
   "source": [
    "# learning curve\n",
    "history_dict = model_history[0].history\n",
    "\n",
    "# accuracy\n",
    "acc = history_dict['accuracy']\n",
    "val_acc = history_dict['val_accuracy']\n",
    "\n",
    "# loss\n",
    "loss = history_dict['loss']\n",
    "val_loss = history_dict['val_loss']\n",
    "\n",
    "# range of X (no. of epochs)\n",
    "epochs = range(1, len(acc) + 1)\n",
    "\n",
    "# plot\n",
    "plt.plot(epochs, acc, label='Training accuracy')\n",
    "plt.plot(epochs, val_acc, label='Validation accuracy')\n",
    "plt.title('Training and validation accuracy, Model 2')\n",
    "plt.xlabel('Epochs')\n",
    "plt.ylabel('Accuracy')\n",
    "plt.legend()\n",
    "plt.savefig(r\"C:\\Users\\Administrator\\Documents\\GitHub\\Projects\\Algorithms for Massive Datasets\\Plots\\model2_3.jpeg\")\n",
    "\n",
    "plt.show()"
   ]
  },
  {
   "cell_type": "code",
   "execution_count": 22,
   "id": "23d4a583",
   "metadata": {
    "tags": []
   },
   "outputs": [
    {
     "data": {
      "image/png": "[encoded data removed]",
      "text/plain": [
       "<Figure size 640x480 with 1 Axes>"
      ]
     },
     "metadata": {},
     "output_type": "display_data"
    }
   ],
   "source": [
    "# accuracy\n",
    "acc = history_dict['accuracy']\n",
    "val_acc = history_dict['val_accuracy']\n",
    "\n",
    "# loss\n",
    "loss = history_dict['loss']\n",
    "val_loss = history_dict['val_loss']\n",
    "\n",
    "# range of X (no. of epochs)\n",
    "epochs = range(1, len(acc) + 1)\n",
    "\n",
    "# plot\n",
    "plt.plot(epochs, loss, label='Training loss')\n",
    "plt.plot(epochs, val_loss, label='Validation loss')\n",
    "plt.title('Training and validation loss, Model 2')\n",
    "plt.xlabel('Epochs')\n",
    "plt.ylabel('Loss')\n",
    "plt.legend()\n",
    "plt.savefig(r\"C:\\Users\\Administrator\\Documents\\GitHub\\Projects\\Algorithms for Massive Datasets\\Plots\\model2_4.jpeg\")\n",
    "\n",
    "plt.show()"
   ]
  },
  {
   "cell_type": "code",
   "execution_count": 23,
   "id": "badb3898",
   "metadata": {
    "tags": []
   },
   "outputs": [
    {
     "name": "stdout",
     "output_type": "stream",
     "text": [
      "1.2427342671614428\n",
      "1.4151822374417231\n"
     ]
    }
   ],
   "source": [
    "#training and validation loss\n",
    "model_2_train_loss=[]\n",
    "model_2_train_loss.append(np.mean(model_history[0].history['loss']))\n",
    "print(np.mean(model_2_train_loss)) #1.242\n",
    "\n",
    "model_2_val_loss=[]\n",
    "model_2_val_loss.append(np.mean(model_history[0].history['val_loss']))\n",
    "print(np.mean(model_2_val_loss)) #1.415"
   ]
  },
  {
   "cell_type": "code",
   "execution_count": 24,
   "id": "a464b06d",
   "metadata": {
    "tags": []
   },
   "outputs": [
    {
     "name": "stdout",
     "output_type": "stream",
     "text": [
      "4/4 [==============================] - 0s 68ms/step - loss: 0.9652 - accuracy: 0.6182\n"
     ]
    },
    {
     "data": {
      "text/plain": [
       "[0.9652106761932373, 0.6181818246841431]"
      ]
     },
     "execution_count": 24,
     "metadata": {},
     "output_type": "execute_result"
    }
   ],
   "source": [
    "#Test model 2\n",
    "model = load_model('model_2')\n",
    "\n",
    "print(\"Evaluate on test data\")\n",
    "results = model.evaluate(X_test, y_test)\n",
    "print(\"test loss, test acc:\", results)\n",
    "#0.9652 0.6181"
   ]
  },
  {
   "cell_type": "code",
   "execution_count": 25,
   "id": "77393929",
   "metadata": {
    "tags": []
   },
   "outputs": [
    {
     "name": "stdout",
     "output_type": "stream",
     "text": [
      "4/4 [==============================] - 0s 34ms/step\n",
      "[4.3290813e-02 2.6936576e-04 1.1416252e-04 5.3931639e-02 1.3614862e-01\n",
      " 4.8313186e-01 2.7272288e-02 2.2830648e-02 1.1876657e-03 2.8205711e-06\n",
      " 2.3182014e-01]\n",
      "1.0\n"
     ]
    }
   ],
   "source": [
    "#random prediction - test set\n",
    "\n",
    "preds = model.predict(X_test)\n",
    "print(preds[109])\n",
    "print(np.sum(preds[0]))"
   ]
  },
  {
   "cell_type": "code",
   "execution_count": 26,
   "id": "673dd6d4",
   "metadata": {
    "tags": []
   },
   "outputs": [
    {
     "data": {
      "text/plain": [
       "array([[ 6,  0,  0,  0,  1,  0,  0,  1,  0,  0,  2],\n",
       "       [ 0,  7,  0,  0,  0,  0,  0,  0,  0,  3,  0],\n",
       "       [ 0,  1,  9,  0,  0,  0,  0,  0,  0,  0,  0],\n",
       "       [ 0,  0,  3,  2,  0,  1,  1,  0,  0,  0,  3],\n",
       "       [ 2,  0,  0,  0,  4,  2,  0,  0,  1,  0,  1],\n",
       "       [ 0,  0,  0,  0,  0, 10,  0,  0,  0,  0,  0],\n",
       "       [ 0,  0,  0,  0,  0,  2,  4,  0,  0,  0,  4],\n",
       "       [ 0,  1,  4,  0,  0,  0,  0,  3,  0,  0,  2],\n",
       "       [ 0,  0,  0,  0,  0,  1,  0,  0,  9,  0,  0],\n",
       "       [ 0,  2,  0,  0,  0,  0,  0,  0,  0,  8,  0],\n",
       "       [ 0,  0,  1,  0,  1,  2,  0,  0,  0,  0,  6]], dtype=int64)"
      ]
     },
     "execution_count": 26,
     "metadata": {},
     "output_type": "execute_result"
    }
   ],
   "source": [
    "#confusion matrix - test set\n",
    "\n",
    "matrix = confusion_matrix(y_test.argmax(axis=1), preds.argmax(axis=1))\n",
    "matrix"
   ]
  },
  {
   "cell_type": "code",
   "execution_count": 27,
   "id": "70e63f85",
   "metadata": {
    "tags": []
   },
   "outputs": [
    {
     "name": "stdout",
     "output_type": "stream",
     "text": [
      "              precision    recall  f1-score   support\n",
      "\n",
      "           0       0.75      0.60      0.67        10\n",
      "           1       0.64      0.70      0.67        10\n",
      "           2       0.53      0.90      0.67        10\n",
      "           3       1.00      0.20      0.33        10\n",
      "           4       0.67      0.40      0.50        10\n",
      "           5       0.56      1.00      0.71        10\n",
      "           6       0.80      0.40      0.53        10\n",
      "           7       0.75      0.30      0.43        10\n",
      "           8       0.90      0.90      0.90        10\n",
      "           9       0.73      0.80      0.76        10\n",
      "          10       0.33      0.60      0.43        10\n",
      "\n",
      "    accuracy                           0.62       110\n",
      "   macro avg       0.70      0.62      0.60       110\n",
      "weighted avg       0.70      0.62      0.60       110\n",
      "\n"
     ]
    }
   ],
   "source": [
    "#precision and recall- test set\n",
    "report_model2 = classification_report(y_test.argmax(axis=1), preds.argmax(axis=1), target_names=categories, output_dict=True)\n",
    "report_model2 = pd.DataFrame(report_model2).transpose().round(2)\n",
    "print(report_model2)"
   ]
  },
  {
   "cell_type": "code",
   "execution_count": null,
   "id": "db9ff54d-6ec4-4622-a271-5b1a37d0865f",
   "metadata": {},
   "outputs": [],
   "source": [
    "print(report_model2.to_latex(position='H', bold_rows=True, float_format=\"{:.2f}\".format, label='report_model1', caption='Classification Report, Model 2'))"
   ]
  },
  {
   "cell_type": "markdown",
   "id": "bcc7202d",
   "metadata": {},
   "source": [
    "## Model 3"
   ]
  },
  {
   "cell_type": "markdown",
   "id": "222d9328",
   "metadata": {},
   "source": [
    "Model 3 has the following changes with respect to model 2: Optimizer is Adam instead of SG. padding is 'same' again as in model 1, a fourth convolutional layer is added before the flatten layer"
   ]
  },
  {
   "cell_type": "code",
   "execution_count": 28,
   "id": "1aaf3f76",
   "metadata": {
    "tags": []
   },
   "outputs": [],
   "source": [
    "#def model 3\n",
    "\n",
    "def create_model():\n",
    "    model=Sequential()\n",
    "    model.add(Conv2D(16, (3,3), activation='relu', kernel_initializer='glorot_normal', padding='same', input_shape=(200, 200, 3)))\n",
    "    model.add(MaxPooling2D((2,2)))\n",
    "            \n",
    "    model.add(Conv2D(32, (3,3), activation='relu', kernel_initializer='glorot_normal', padding='same'))\n",
    "    model.add(MaxPooling2D((2,2)))\n",
    "           \n",
    "    model.add(Conv2D(64, (3,3), activation='relu', kernel_initializer='glorot_normal', padding='same'))\n",
    "    model.add(MaxPooling2D((2,2)))\n",
    "    \n",
    "    model.add(Conv2D(128, (3,3), activation='relu', kernel_initializer='glorot_normal', padding='same'))\n",
    "    model.add(MaxPooling2D((2,2)))\n",
    "            \n",
    "    model.add(Flatten())\n",
    "    model.add(Dense(32, activation='relu', kernel_initializer='glorot_normal'))\n",
    "    model.add(Dense(16, activation='relu', kernel_initializer='glorot_normal'))\n",
    "    model.add(Dense(11, activation='softmax'))\n",
    "    \n",
    "    model.compile(loss='categorical_crossentropy', optimizer=Adam(learning_rate=0.001,\n",
    "                                                             beta_1=0.9,\n",
    "                                                             beta_2=0.999,\n",
    "                                                             epsilon=1e-07,\n",
    "                                                             amsgrad=False), metrics=['accuracy'])\n",
    "    return model\n",
    "\n",
    "#create model\n",
    "model=create_model()"
   ]
  },
  {
   "cell_type": "code",
   "execution_count": 29,
   "id": "c3c03cfd",
   "metadata": {
    "tags": []
   },
   "outputs": [
    {
     "name": "stdout",
     "output_type": "stream",
     "text": [
      "Model: \"sequential_4\"\n",
      "_________________________________________________________________\n",
      " Layer (type)                Output Shape              Param #   \n",
      "=================================================================\n",
      " conv2d_12 (Conv2D)          (None, 200, 200, 16)      448       \n",
      "                                                                 \n",
      " max_pooling2d_12 (MaxPoolin  (None, 100, 100, 16)     0         \n",
      " g2D)                                                            \n",
      "                                                                 \n",
      " conv2d_13 (Conv2D)          (None, 100, 100, 32)      4640      \n",
      "                                                                 \n",
      " max_pooling2d_13 (MaxPoolin  (None, 50, 50, 32)       0         \n",
      " g2D)                                                            \n",
      "                                                                 \n",
      " conv2d_14 (Conv2D)          (None, 50, 50, 64)        18496     \n",
      "                                                                 \n",
      " max_pooling2d_14 (MaxPoolin  (None, 25, 25, 64)       0         \n",
      " g2D)                                                            \n",
      "                                                                 \n",
      " conv2d_15 (Conv2D)          (None, 25, 25, 128)       73856     \n",
      "                                                                 \n",
      " max_pooling2d_15 (MaxPoolin  (None, 12, 12, 128)      0         \n",
      " g2D)                                                            \n",
      "                                                                 \n",
      " flatten_4 (Flatten)         (None, 18432)             0         \n",
      "                                                                 \n",
      " dense_12 (Dense)            (None, 32)                589856    \n",
      "                                                                 \n",
      " dense_13 (Dense)            (None, 16)                528       \n",
      "                                                                 \n",
      " dense_14 (Dense)            (None, 11)                187       \n",
      "                                                                 \n",
      "=================================================================\n",
      "Total params: 688,011\n",
      "Trainable params: 688,011\n",
      "Non-trainable params: 0\n",
      "_________________________________________________________________\n",
      "None\n"
     ]
    }
   ],
   "source": [
    "#visualize architecture\n",
    "font = ImageFont.truetype(\"arial.ttf\", 18)\n",
    "visualkeras.layered_view(model, legend=True, font=font, \n",
    "                         to_file=r\"C:\\Users\\Administrator\\Documents\\GitHub\\Projects\\Algorithms for Massive Datasets\\Plots\\model3_1.png\")\n",
    "\n",
    "#visualize architecture\n",
    "tf.keras.utils.plot_model(model, \n",
    "                          to_file=r\"C:\\Users\\Administrator\\Documents\\GitHub\\Projects\\Algorithms for Massive Datasets\\Plots\\model3_2.png\",\n",
    "                          show_shapes=False,\n",
    "                          show_dtype=False,\n",
    "                          show_layer_names=False,\n",
    "                          rankdir=\"TB\",\n",
    "                          expand_nested=True,\n",
    "                          dpi=92,\n",
    "                          layer_range=None,\n",
    "                          show_layer_activations=True)\n",
    "\n",
    "#visualize architecture and trainable parameters\n",
    "print(model.summary())\n"
   ]
  },
  {
   "cell_type": "code",
   "execution_count": 30,
   "id": "6549017a",
   "metadata": {
    "tags": []
   },
   "outputs": [],
   "source": [
    "#define early stopping, callback and fit and evaluate function\n",
    "\n",
    "#set early stopping criteria\n",
    "early_stopping = EarlyStopping(monitor='val_accuracy', patience=5, verbose=0, restore_best_weights=True)\n",
    "\n",
    "#set model checkpoint callback, this will keep on saving the model as a physical file\n",
    "model_checkpoint = ModelCheckpoint('model_3', verbose=1, save_best_only=True)\n",
    "\n",
    "#define a function to fit the model\n",
    "def fit_and_evaluate(t_x, val_x, t_y, val_y, EPOCHS=50, BATCH_SIZE=32):\n",
    "    model = None\n",
    "    model = create_model()\n",
    "    results = model.fit(t_x,\n",
    "                        t_y,\n",
    "                        epochs=EPOCHS,\n",
    "                        batch_size=BATCH_SIZE,\n",
    "                        verbose=1,\n",
    "                        shuffle = True,\n",
    "                        callbacks=[early_stopping, model_checkpoint],\n",
    "                        validation_data=(val_x, val_y),)  \n",
    "    print(\"Validation Score: \", model.evaluate(val_x, val_y))\n",
    "    return results"
   ]
  },
  {
   "cell_type": "code",
   "execution_count": 31,
   "id": "93c8bac5",
   "metadata": {
    "tags": []
   },
   "outputs": [
    {
     "name": "stdout",
     "output_type": "stream",
     "text": [
      "Training: \n",
      "Epoch 1/50\n",
      "134/134 [==============================] - ETA: 0s - loss: 1.7491 - accuracy: 0.4036\n",
      "Epoch 1: val_loss improved from inf to 1.26472, saving model to model_3\n"
     ]
    },
    {
     "name": "stderr",
     "output_type": "stream",
     "text": [
      "WARNING:absl:Found untraced functions such as _jit_compiled_convolution_op, _jit_compiled_convolution_op, _jit_compiled_convolution_op, _jit_compiled_convolution_op while saving (showing 4 of 4). These functions will not be directly callable after loading.\n"
     ]
    },
    {
     "name": "stdout",
     "output_type": "stream",
     "text": [
      "INFO:tensorflow:Assets written to: model_3\\assets\n"
     ]
    },
    {
     "name": "stderr",
     "output_type": "stream",
     "text": [
      "INFO:tensorflow:Assets written to: model_3\\assets\n"
     ]
    },
    {
     "name": "stdout",
     "output_type": "stream",
     "text": [
      "134/134 [==============================] - 38s 275ms/step - loss: 1.7491 - accuracy: 0.4036 - val_loss: 1.2647 - val_accuracy: 0.6000\n",
      "Epoch 2/50\n",
      "134/134 [==============================] - ETA: 0s - loss: 0.8793 - accuracy: 0.7209\n",
      "Epoch 2: val_loss improved from 1.26472 to 0.61788, saving model to model_3\n"
     ]
    },
    {
     "name": "stderr",
     "output_type": "stream",
     "text": [
      "WARNING:absl:Found untraced functions such as _jit_compiled_convolution_op, _jit_compiled_convolution_op, _jit_compiled_convolution_op, _jit_compiled_convolution_op while saving (showing 4 of 4). These functions will not be directly callable after loading.\n"
     ]
    },
    {
     "name": "stdout",
     "output_type": "stream",
     "text": [
      "INFO:tensorflow:Assets written to: model_3\\assets\n"
     ]
    },
    {
     "name": "stderr",
     "output_type": "stream",
     "text": [
      "INFO:tensorflow:Assets written to: model_3\\assets\n"
     ]
    },
    {
     "name": "stdout",
     "output_type": "stream",
     "text": [
      "134/134 [==============================] - 36s 268ms/step - loss: 0.8793 - accuracy: 0.7209 - val_loss: 0.6179 - val_accuracy: 0.8091\n",
      "Epoch 3/50\n",
      "134/134 [==============================] - ETA: 0s - loss: 0.4882 - accuracy: 0.8540\n",
      "Epoch 3: val_loss did not improve from 0.61788\n",
      "134/134 [==============================] - 37s 278ms/step - loss: 0.4882 - accuracy: 0.8540 - val_loss: 0.6965 - val_accuracy: 0.8091\n",
      "Epoch 4/50\n",
      "134/134 [==============================] - ETA: 0s - loss: 0.3363 - accuracy: 0.8987\n",
      "Epoch 4: val_loss improved from 0.61788 to 0.56064, saving model to model_3\n"
     ]
    },
    {
     "name": "stderr",
     "output_type": "stream",
     "text": [
      "WARNING:absl:Found untraced functions such as _jit_compiled_convolution_op, _jit_compiled_convolution_op, _jit_compiled_convolution_op, _jit_compiled_convolution_op while saving (showing 4 of 4). These functions will not be directly callable after loading.\n"
     ]
    },
    {
     "name": "stdout",
     "output_type": "stream",
     "text": [
      "INFO:tensorflow:Assets written to: model_3\\assets\n"
     ]
    },
    {
     "name": "stderr",
     "output_type": "stream",
     "text": [
      "INFO:tensorflow:Assets written to: model_3\\assets\n"
     ]
    },
    {
     "name": "stdout",
     "output_type": "stream",
     "text": [
      "134/134 [==============================] - 42s 314ms/step - loss: 0.3363 - accuracy: 0.8987 - val_loss: 0.5606 - val_accuracy: 0.8273\n",
      "Epoch 5/50\n",
      "134/134 [==============================] - ETA: 0s - loss: 0.2525 - accuracy: 0.9247\n",
      "Epoch 5: val_loss improved from 0.56064 to 0.50059, saving model to model_3\n"
     ]
    },
    {
     "name": "stderr",
     "output_type": "stream",
     "text": [
      "WARNING:absl:Found untraced functions such as _jit_compiled_convolution_op, _jit_compiled_convolution_op, _jit_compiled_convolution_op, _jit_compiled_convolution_op while saving (showing 4 of 4). These functions will not be directly callable after loading.\n"
     ]
    },
    {
     "name": "stdout",
     "output_type": "stream",
     "text": [
      "INFO:tensorflow:Assets written to: model_3\\assets\n"
     ]
    },
    {
     "name": "stderr",
     "output_type": "stream",
     "text": [
      "INFO:tensorflow:Assets written to: model_3\\assets\n"
     ]
    },
    {
     "name": "stdout",
     "output_type": "stream",
     "text": [
      "134/134 [==============================] - 38s 282ms/step - loss: 0.2525 - accuracy: 0.9247 - val_loss: 0.5006 - val_accuracy: 0.8909\n",
      "Epoch 6/50\n",
      "134/134 [==============================] - ETA: 0s - loss: 0.1941 - accuracy: 0.9415\n",
      "Epoch 6: val_loss improved from 0.50059 to 0.33477, saving model to model_3\n"
     ]
    },
    {
     "name": "stderr",
     "output_type": "stream",
     "text": [
      "WARNING:absl:Found untraced functions such as _jit_compiled_convolution_op, _jit_compiled_convolution_op, _jit_compiled_convolution_op, _jit_compiled_convolution_op while saving (showing 4 of 4). These functions will not be directly callable after loading.\n"
     ]
    },
    {
     "name": "stdout",
     "output_type": "stream",
     "text": [
      "INFO:tensorflow:Assets written to: model_3\\assets\n"
     ]
    },
    {
     "name": "stderr",
     "output_type": "stream",
     "text": [
      "INFO:tensorflow:Assets written to: model_3\\assets\n"
     ]
    },
    {
     "name": "stdout",
     "output_type": "stream",
     "text": [
      "134/134 [==============================] - 37s 280ms/step - loss: 0.1941 - accuracy: 0.9415 - val_loss: 0.3348 - val_accuracy: 0.9182\n",
      "Epoch 7/50\n",
      "134/134 [==============================] - ETA: 0s - loss: 0.1567 - accuracy: 0.9520\n",
      "Epoch 7: val_loss did not improve from 0.33477\n",
      "134/134 [==============================] - 36s 270ms/step - loss: 0.1567 - accuracy: 0.9520 - val_loss: 0.4414 - val_accuracy: 0.8636\n",
      "Epoch 8/50\n",
      "134/134 [==============================] - ETA: 0s - loss: 0.1242 - accuracy: 0.9644\n",
      "Epoch 8: val_loss did not improve from 0.33477\n",
      "134/134 [==============================] - 36s 271ms/step - loss: 0.1242 - accuracy: 0.9644 - val_loss: 0.3911 - val_accuracy: 0.9091\n",
      "Epoch 9/50\n",
      "134/134 [==============================] - ETA: 0s - loss: 0.0888 - accuracy: 0.9743\n",
      "Epoch 9: val_loss did not improve from 0.33477\n",
      "134/134 [==============================] - 35s 260ms/step - loss: 0.0888 - accuracy: 0.9743 - val_loss: 0.6311 - val_accuracy: 0.8909\n",
      "Epoch 10/50\n",
      "134/134 [==============================] - ETA: 0s - loss: 0.0767 - accuracy: 0.9750\n",
      "Epoch 10: val_loss did not improve from 0.33477\n",
      "134/134 [==============================] - 34s 253ms/step - loss: 0.0767 - accuracy: 0.9750 - val_loss: 0.5692 - val_accuracy: 0.9000\n",
      "Epoch 11/50\n",
      "134/134 [==============================] - ETA: 0s - loss: 0.0435 - accuracy: 0.9848\n",
      "Epoch 11: val_loss did not improve from 0.33477\n",
      "134/134 [==============================] - 34s 256ms/step - loss: 0.0435 - accuracy: 0.9848 - val_loss: 0.5505 - val_accuracy: 0.8909\n",
      "4/4 [==============================] - 0s 99ms/step - loss: 0.3348 - accuracy: 0.9182\n",
      "Validation Score:  [0.33476850390434265, 0.918181836605072]\n",
      "====================================================================================\n",
      "\n",
      "\n"
     ]
    }
   ],
   "source": [
    "#save the model history in a list after fitting so that we can plot later\n",
    "model_history = [] \n",
    "epochs=50\n",
    "batch_size=32\n",
    "\n",
    "print(\"Training: \")\n",
    "model_history.append(fit_and_evaluate(X_train, X_valid, y_train, y_valid, epochs, batch_size))\n",
    "print(\"=======\"*12, end=\"\\n\\n\\n\")"
   ]
  },
  {
   "cell_type": "code",
   "execution_count": 32,
   "id": "d6fe0469",
   "metadata": {
    "tags": []
   },
   "outputs": [
    {
     "data": {
      "image/png": "[encoded data removed]",
      "text/plain": [
       "<Figure size 640x480 with 1 Axes>"
      ]
     },
     "metadata": {},
     "output_type": "display_data"
    }
   ],
   "source": [
    "# learning curve\n",
    "history_dict = model_history[0].history\n",
    "\n",
    "# accuracy\n",
    "acc = history_dict['accuracy']\n",
    "val_acc = history_dict['val_accuracy']\n",
    "\n",
    "# loss\n",
    "loss = history_dict['loss']\n",
    "val_loss = history_dict['val_loss']\n",
    "\n",
    "# range of X (no. of epochs)\n",
    "epochs = range(1, len(acc) + 1)\n",
    "\n",
    "# plot\n",
    "plt.plot(epochs, acc, label='Training accuracy')\n",
    "plt.plot(epochs, val_acc, label='Validation accuracy')\n",
    "plt.title('Training and validation accuracy, Model 3')\n",
    "plt.xlabel('Epochs')\n",
    "plt.ylabel('Accuracy')\n",
    "plt.legend()\n",
    "plt.savefig(r\"C:\\Users\\Administrator\\Documents\\GitHub\\Projects\\Algorithms for Massive Datasets\\Plots\\model3_3.jpeg\")\n",
    "\n",
    "plt.show()"
   ]
  },
  {
   "cell_type": "code",
   "execution_count": 33,
   "id": "c5f2d209",
   "metadata": {
    "tags": []
   },
   "outputs": [
    {
     "data": {
      "image/png": "[encoded data removed]",
      "text/plain": [
       "<Figure size 640x480 with 1 Axes>"
      ]
     },
     "metadata": {},
     "output_type": "display_data"
    }
   ],
   "source": [
    "# accuracy\n",
    "acc = history_dict['accuracy']\n",
    "val_acc = history_dict['val_accuracy']\n",
    "\n",
    "# loss\n",
    "loss = history_dict['loss']\n",
    "val_loss = history_dict['val_loss']\n",
    "\n",
    "# range of X (no. of epochs)\n",
    "epochs = range(1, len(acc) + 1)\n",
    "\n",
    "# plot\n",
    "plt.plot(epochs, loss, label='Training loss')\n",
    "plt.plot(epochs, val_loss, label='Validation loss')\n",
    "plt.title('Training and validation loss, Model 3')\n",
    "plt.xlabel('Epochs')\n",
    "plt.ylabel('Loss')\n",
    "plt.legend()\n",
    "plt.savefig(r\"C:\\Users\\Administrator\\Documents\\GitHub\\Projects\\Algorithms for Massive Datasets\\Plots\\model3_4.jpeg\")\n",
    "\n",
    "plt.show()"
   ]
  },
  {
   "cell_type": "code",
   "execution_count": 34,
   "id": "9e26fc3b",
   "metadata": {
    "tags": []
   },
   "outputs": [
    {
     "name": "stdout",
     "output_type": "stream",
     "text": [
      "0.3990509621798992\n",
      "0.5962083122947\n"
     ]
    }
   ],
   "source": [
    "#training and validation loss\n",
    "model_3_train_loss=[]\n",
    "model_3_train_loss.append(np.mean(model_history[0].history['loss']))\n",
    "print(np.mean(model_3_train_loss)) #0.399\n",
    "\n",
    "model_3_val_loss=[]\n",
    "model_3_val_loss.append(np.mean(model_history[0].history['val_loss']))\n",
    "print(np.mean(model_3_val_loss)) #0.5962"
   ]
  },
  {
   "cell_type": "code",
   "execution_count": 35,
   "id": "057cec3f",
   "metadata": {
    "tags": []
   },
   "outputs": [
    {
     "name": "stdout",
     "output_type": "stream",
     "text": [
      "4/4 [==============================] - 1s 83ms/step - loss: 0.3321 - accuracy: 0.9273\n"
     ]
    },
    {
     "data": {
      "text/plain": [
       "[0.3321339786052704, 0.9272727370262146]"
      ]
     },
     "execution_count": 35,
     "metadata": {},
     "output_type": "execute_result"
    }
   ],
   "source": [
    "#Test model 2\n",
    "model = load_model('model_3')\n",
    "\n",
    "#testing loss and accuracy\n",
    "model.evaluate(X_test, y_test) #0.332, 0.9272"
   ]
  },
  {
   "cell_type": "code",
   "execution_count": 36,
   "id": "da7c9422",
   "metadata": {
    "tags": []
   },
   "outputs": [
    {
     "name": "stdout",
     "output_type": "stream",
     "text": [
      "4/4 [==============================] - 0s 72ms/step\n",
      "[1.3854239e-05 1.2729606e-03 6.7737041e-05 1.8927149e-05 8.6862528e-01\n",
      " 1.2804344e-01 2.4287100e-08 2.8453851e-05 3.3940830e-07 1.2617399e-07\n",
      " 1.9288575e-03]\n",
      "1.0\n"
     ]
    }
   ],
   "source": [
    "#random prediction - test set\n",
    "\n",
    "preds = model.predict(X_test)\n",
    "print(preds[109])\n",
    "print(np.sum(preds[0]))"
   ]
  },
  {
   "cell_type": "code",
   "execution_count": 37,
   "id": "74bba4d8",
   "metadata": {
    "tags": []
   },
   "outputs": [
    {
     "data": {
      "text/plain": [
       "array([[10,  0,  0,  0,  0,  0,  0,  0,  0,  0,  0],\n",
       "       [ 0, 10,  0,  0,  0,  0,  0,  0,  0,  0,  0],\n",
       "       [ 0,  0, 10,  0,  0,  0,  0,  0,  0,  0,  0],\n",
       "       [ 0,  0,  1,  9,  0,  0,  0,  0,  0,  0,  0],\n",
       "       [ 0,  0,  0,  0,  9,  1,  0,  0,  0,  0,  0],\n",
       "       [ 0,  0,  0,  0,  0, 10,  0,  0,  0,  0,  0],\n",
       "       [ 2,  0,  0,  0,  0,  0,  8,  0,  0,  0,  0],\n",
       "       [ 0,  0,  1,  0,  0,  0,  0,  9,  0,  0,  0],\n",
       "       [ 0,  0,  0,  0,  0,  0,  0,  0, 10,  0,  0],\n",
       "       [ 0,  1,  0,  0,  0,  0,  0,  0,  0,  9,  0],\n",
       "       [ 0,  0,  0,  0,  2,  0,  0,  0,  0,  0,  8]], dtype=int64)"
      ]
     },
     "execution_count": 37,
     "metadata": {},
     "output_type": "execute_result"
    }
   ],
   "source": [
    "#confusion matrix - test set\n",
    "\n",
    "matrix = confusion_matrix(y_test.argmax(axis=1), preds.argmax(axis=1))\n",
    "matrix"
   ]
  },
  {
   "cell_type": "code",
   "execution_count": 38,
   "id": "ed869f4f",
   "metadata": {
    "tags": []
   },
   "outputs": [
    {
     "name": "stdout",
     "output_type": "stream",
     "text": [
      "              precision    recall  f1-score   support\n",
      "\n",
      "           0       0.83      1.00      0.91        10\n",
      "           1       0.91      1.00      0.95        10\n",
      "           2       0.83      1.00      0.91        10\n",
      "           3       1.00      0.90      0.95        10\n",
      "           4       0.82      0.90      0.86        10\n",
      "           5       0.91      1.00      0.95        10\n",
      "           6       1.00      0.80      0.89        10\n",
      "           7       1.00      0.90      0.95        10\n",
      "           8       1.00      1.00      1.00        10\n",
      "           9       1.00      0.90      0.95        10\n",
      "          10       1.00      0.80      0.89        10\n",
      "\n",
      "    accuracy                           0.93       110\n",
      "   macro avg       0.94      0.93      0.93       110\n",
      "weighted avg       0.94      0.93      0.93       110\n",
      "\n"
     ]
    },
    {
     "data": {
      "text/plain": [
       "<Figure size 640x480 with 0 Axes>"
      ]
     },
     "metadata": {},
     "output_type": "display_data"
    }
   ],
   "source": [
    "#precision and recall- test set\n",
    "report_model3 = classification_report(y_test.argmax(axis=1), preds.argmax(axis=1), target_names=categories, output_dict=True)\n",
    "report_model3 = pd.DataFrame(report_model3).transpose().round(2)\n",
    "print(report_model3)"
   ]
  },
  {
   "cell_type": "code",
   "execution_count": null,
   "id": "afbac487",
   "metadata": {},
   "outputs": [],
   "source": [
    "print(report_model3.to_latex(position='H', bold_rows=True, float_format=\"{:.2f}\".format, label='report_model1', caption='Classification Report, Model 3'))"
   ]
  }
 ],
 "metadata": {
  "kernelspec": {
   "display_name": "Python 3 (ipykernel)",
   "language": "python",
   "name": "python3"
  },
  "language_info": {
   "codemirror_mode": {
    "name": "ipython",
    "version": 3
   },
   "file_extension": ".py",
   "mimetype": "text/x-python",
   "name": "python",
   "nbconvert_exporter": "python",
   "pygments_lexer": "ipython3",
   "version": "3.10.10"
  },
  "toc-autonumbering": false,
  "toc-showmarkdowntxt": false,
  "toc-showtags": false,
  "varInspector": {
   "cols": {
    "lenName": 16,
    "lenType": 16,
    "lenVar": 40
   },
   "kernels_config": {
    "python": {
     "delete_cmd_postfix": "",
     "delete_cmd_prefix": "del ",
     "library": "var_list.py",
     "varRefreshCmd": "print(var_dic_list())"
    },
    "r": {
     "delete_cmd_postfix": ") ",
     "delete_cmd_prefix": "rm(",
     "library": "var_list.r",
     "varRefreshCmd": "cat(var_dic_list()) "
    }
   },
   "types_to_exclude": [
    "module",
    "function",
    "builtin_function_or_method",
    "instance",
    "_Feature"
   ],
   "window_display": false
  }
 },
 "nbformat": 4,
 "nbformat_minor": 5
}
