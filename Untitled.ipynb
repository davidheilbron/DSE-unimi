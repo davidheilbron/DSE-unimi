{
 "cells": [
  {
   "cell_type": "code",
   "execution_count": 1,
   "id": "47663f49",
   "metadata": {},
   "outputs": [],
   "source": [
    "from cryptography.fernet import Fernet"
   ]
  },
  {
   "cell_type": "code",
   "execution_count": 2,
   "id": "10f3832b",
   "metadata": {},
   "outputs": [
    {
     "name": "stdout",
     "output_type": "stream",
     "text": [
      "Tapire\n"
     ]
    }
   ],
   "source": [
    "f = Fernet(b'iI0wdMEysPRLW4aSckKtoSs0G7BA9fc3Jf6QjJexh0E=')\n",
    "\n",
    "encrypted = b'gAAAAABfLCA9FCFclrsHxWr9QGvm-1hUBUPuCWYOkeD5QWz9wq0cJ0ugAe4DJpx-M0VVo3WTE2SC-wwEXUKizVG0Nun-jjHtGg=='\n",
    "\n",
    "decrypted = f.decrypt(encrypted).decode(\"utf-8\")\n",
    "\n",
    "print(decrypted)"
   ]
  },
  {
   "cell_type": "code",
   "execution_count": null,
   "id": "03d26970",
   "metadata": {},
   "outputs": [],
   "source": []
  }
 ],
 "metadata": {
  "kernelspec": {
   "display_name": "Python 3 (ipykernel)",
   "language": "python",
   "name": "python3"
  },
  "language_info": {
   "codemirror_mode": {
    "name": "ipython",
    "version": 3
   },
   "file_extension": ".py",
   "mimetype": "text/x-python",
   "name": "python",
   "nbconvert_exporter": "python",
   "pygments_lexer": "ipython3",
   "version": "3.10.9"
  },
  "varInspector": {
   "cols": {
    "lenName": 16,
    "lenType": 16,
    "lenVar": 40
   },
   "kernels_config": {
    "python": {
     "delete_cmd_postfix": "",
     "delete_cmd_prefix": "del ",
     "library": "var_list.py",
     "varRefreshCmd": "print(var_dic_list())"
    },
    "r": {
     "delete_cmd_postfix": ") ",
     "delete_cmd_prefix": "rm(",
     "library": "var_list.r",
     "varRefreshCmd": "cat(var_dic_list()) "
    }
   },
   "types_to_exclude": [
    "module",
    "function",
    "builtin_function_or_method",
    "instance",
    "_Feature"
   ],
   "window_display": false
  }
 },
 "nbformat": 4,
 "nbformat_minor": 5
}
